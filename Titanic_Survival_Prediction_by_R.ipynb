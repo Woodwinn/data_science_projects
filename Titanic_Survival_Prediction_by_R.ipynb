{
  "nbformat": 4,
  "nbformat_minor": 0,
  "metadata": {
    "colab": {
      "provenance": []
    },
    "kernelspec": {
      "name": "ir",
      "display_name": "R"
    },
    "language_info": {
      "name": "R"
    }
  },
  "cells": [
    {
      "cell_type": "markdown",
      "source": [
        "# Titanic Suvival Prediction\n",
        "### by Logistic Regrssion using R Programming"
      ],
      "metadata": {
        "id": "jT_K8_b-ztqV"
      }
    },
    {
      "cell_type": "markdown",
      "source": [
        "## Prepare data and environment"
      ],
      "metadata": {
        "id": "trEU5IZ9z3AM"
      }
    },
    {
      "cell_type": "markdown",
      "source": [],
      "metadata": {
        "id": "-XdI0BvZK-Ff"
      }
    },
    {
      "cell_type": "code",
      "execution_count": null,
      "metadata": {
        "colab": {
          "base_uri": "https://localhost:8080/"
        },
        "id": "dwuuMwE9eUoN",
        "outputId": "31f9a85e-0a0b-4d47-9121-9b43a4d77874"
      },
      "outputs": [
        {
          "output_type": "stream",
          "name": "stderr",
          "text": [
            "Installing package into ‘/usr/local/lib/R/site-library’\n",
            "(as ‘lib’ is unspecified)\n",
            "\n",
            "Warning message in system(\"timedatectl\", intern = TRUE):\n",
            "“running command 'timedatectl' had status 1”\n",
            "── \u001b[1mAttaching packages\u001b[22m ─────────────────────────────────────── tidyverse 1.3.1 ──\n",
            "\n",
            "\u001b[32m✔\u001b[39m \u001b[34mggplot2\u001b[39m 3.4.1     \u001b[32m✔\u001b[39m \u001b[34mpurrr  \u001b[39m 1.0.1\n",
            "\u001b[32m✔\u001b[39m \u001b[34mtibble \u001b[39m 3.1.8     \u001b[32m✔\u001b[39m \u001b[34mdplyr  \u001b[39m 1.1.0\n",
            "\u001b[32m✔\u001b[39m \u001b[34mtidyr  \u001b[39m 1.3.0     \u001b[32m✔\u001b[39m \u001b[34mstringr\u001b[39m 1.4.1\n",
            "\u001b[32m✔\u001b[39m \u001b[34mreadr  \u001b[39m 2.1.4     \u001b[32m✔\u001b[39m \u001b[34mforcats\u001b[39m 1.0.0\n",
            "\n",
            "── \u001b[1mConflicts\u001b[22m ────────────────────────────────────────── tidyverse_conflicts() ──\n",
            "\u001b[31m✖\u001b[39m \u001b[34mdplyr\u001b[39m::\u001b[32mfilter()\u001b[39m masks \u001b[34mstats\u001b[39m::filter()\n",
            "\u001b[31m✖\u001b[39m \u001b[34mdplyr\u001b[39m::\u001b[32mlag()\u001b[39m    masks \u001b[34mstats\u001b[39m::lag()\n",
            "\n"
          ]
        }
      ],
      "source": [
        "# install packages\n",
        "install.packages(\"titanic\")\n",
        "library(titanic)\n",
        "library(tidyverse)"
      ]
    },
    {
      "cell_type": "code",
      "source": [
        "data(\"titanic_train\")\n",
        "glimpse(titanic_train)"
      ],
      "metadata": {
        "colab": {
          "base_uri": "https://localhost:8080/"
        },
        "id": "t4MvyxyWrTDk",
        "outputId": "8a910d02-f75f-4c85-c325-e92d324acc36"
      },
      "execution_count": null,
      "outputs": [
        {
          "output_type": "stream",
          "name": "stdout",
          "text": [
            "Rows: 891\n",
            "Columns: 12\n",
            "$ PassengerId \u001b[3m\u001b[90m<int>\u001b[39m\u001b[23m 1, 2, 3, 4, 5, 6, 7, 8, 9, 10, 11, 12, 13, 14, 15, 16, 17,…\n",
            "$ Survived    \u001b[3m\u001b[90m<int>\u001b[39m\u001b[23m 0, 1, 1, 1, 0, 0, 0, 0, 1, 1, 1, 1, 0, 0, 0, 1, 0, 1, 0, 1…\n",
            "$ Pclass      \u001b[3m\u001b[90m<int>\u001b[39m\u001b[23m 3, 1, 3, 1, 3, 3, 1, 3, 3, 2, 3, 1, 3, 3, 3, 2, 3, 2, 3, 3…\n",
            "$ Name        \u001b[3m\u001b[90m<chr>\u001b[39m\u001b[23m \"Braund, Mr. Owen Harris\", \"Cumings, Mrs. John Bradley (Fl…\n",
            "$ Sex         \u001b[3m\u001b[90m<chr>\u001b[39m\u001b[23m \"male\", \"female\", \"female\", \"female\", \"male\", \"male\", \"mal…\n",
            "$ Age         \u001b[3m\u001b[90m<dbl>\u001b[39m\u001b[23m 22, 38, 26, 35, 35, NA, 54, 2, 27, 14, 4, 58, 20, 39, 14, …\n",
            "$ SibSp       \u001b[3m\u001b[90m<int>\u001b[39m\u001b[23m 1, 1, 0, 1, 0, 0, 0, 3, 0, 1, 1, 0, 0, 1, 0, 0, 4, 0, 1, 0…\n",
            "$ Parch       \u001b[3m\u001b[90m<int>\u001b[39m\u001b[23m 0, 0, 0, 0, 0, 0, 0, 1, 2, 0, 1, 0, 0, 5, 0, 0, 1, 0, 0, 0…\n",
            "$ Ticket      \u001b[3m\u001b[90m<chr>\u001b[39m\u001b[23m \"A/5 21171\", \"PC 17599\", \"STON/O2. 3101282\", \"113803\", \"37…\n",
            "$ Fare        \u001b[3m\u001b[90m<dbl>\u001b[39m\u001b[23m 7.2500, 71.2833, 7.9250, 53.1000, 8.0500, 8.4583, 51.8625,…\n",
            "$ Cabin       \u001b[3m\u001b[90m<chr>\u001b[39m\u001b[23m \"\", \"C85\", \"\", \"C123\", \"\", \"\", \"E46\", \"\", \"\", \"\", \"G6\", \"C…\n",
            "$ Embarked    \u001b[3m\u001b[90m<chr>\u001b[39m\u001b[23m \"S\", \"C\", \"S\", \"S\", \"S\", \"Q\", \"S\", \"S\", \"S\", \"C\", \"S\", \"S\"…\n"
          ]
        }
      ]
    },
    {
      "cell_type": "code",
      "source": [
        "# Replace N/A with average age\n",
        "\n",
        "titanic_train_clean <- na.omit(titanic_train)\n",
        "\n",
        "meanAge <- round(mean(titanic_train_clean$Age))\n",
        "titanic_train <- titanic_train %>%\n",
        "  replace_na(list(Age = meanAge))"
      ],
      "metadata": {
        "id": "YLNAaW6Kto6G"
      },
      "execution_count": null,
      "outputs": []
    },
    {
      "cell_type": "code",
      "source": [
        "# Convert the data type of the Survived column into factor\n",
        "\n",
        "titanic_survived <- titanic_train %>% \n",
        "  mutate(Survived = factor(Survived,\n",
        "                           levels = c(0, 1),\n",
        "                           labels = c(\"Died\", \"Survived\")))"
      ],
      "metadata": {
        "id": "iXPqbDjDB5o3"
      },
      "execution_count": null,
      "outputs": []
    },
    {
      "cell_type": "code",
      "source": [
        "# Split data to 70% Train data and 30% Test data\n",
        "\n",
        "n_row <- nrow(titanic_survived)\n",
        "\n",
        "set.seed(75)\n",
        "id <- sample(1:n_row, size = n_row*0.80)\n",
        "\n",
        "train_data <- titanic_survived[id, ]\n",
        "test_data  <- titanic_survived[-id, ]"
      ],
      "metadata": {
        "id": "56QgKwI1Q1RS"
      },
      "execution_count": null,
      "outputs": []
    },
    {
      "cell_type": "code",
      "source": [
        "head(train_data)"
      ],
      "metadata": {
        "colab": {
          "base_uri": "https://localhost:8080/",
          "height": 286
        },
        "id": "UdvQalMFTqYU",
        "outputId": "3cda4fcb-cb20-423d-9ef7-1f5a1dd6f665"
      },
      "execution_count": null,
      "outputs": [
        {
          "output_type": "display_data",
          "data": {
            "text/html": [
              "<table class=\"dataframe\">\n",
              "<caption>A data.frame: 6 × 12</caption>\n",
              "<thead>\n",
              "\t<tr><th></th><th scope=col>PassengerId</th><th scope=col>Survived</th><th scope=col>Pclass</th><th scope=col>Name</th><th scope=col>Sex</th><th scope=col>Age</th><th scope=col>SibSp</th><th scope=col>Parch</th><th scope=col>Ticket</th><th scope=col>Fare</th><th scope=col>Cabin</th><th scope=col>Embarked</th></tr>\n",
              "\t<tr><th></th><th scope=col>&lt;int&gt;</th><th scope=col>&lt;fct&gt;</th><th scope=col>&lt;int&gt;</th><th scope=col>&lt;chr&gt;</th><th scope=col>&lt;chr&gt;</th><th scope=col>&lt;dbl&gt;</th><th scope=col>&lt;int&gt;</th><th scope=col>&lt;int&gt;</th><th scope=col>&lt;chr&gt;</th><th scope=col>&lt;dbl&gt;</th><th scope=col>&lt;chr&gt;</th><th scope=col>&lt;chr&gt;</th></tr>\n",
              "</thead>\n",
              "<tbody>\n",
              "\t<tr><th scope=row>704</th><td>704</td><td>Died    </td><td>3</td><td>Gallagher, Mr. Martin                          </td><td>male  </td><td>25</td><td>0</td><td>0</td><td>36864    </td><td> 7.7417</td><td>           </td><td>Q</td></tr>\n",
              "\t<tr><th scope=row>168</th><td>168</td><td>Died    </td><td>3</td><td>Skoog, Mrs. William (Anna Bernhardina Karlsson)</td><td>female</td><td>45</td><td>1</td><td>4</td><td>347088   </td><td>27.9000</td><td>           </td><td>S</td></tr>\n",
              "\t<tr><th scope=row>793</th><td>793</td><td>Died    </td><td>3</td><td>Sage, Miss. Stella Anna                        </td><td>female</td><td>30</td><td>8</td><td>2</td><td>CA. 2343 </td><td>69.5500</td><td>           </td><td>S</td></tr>\n",
              "\t<tr><th scope=row>789</th><td>789</td><td>Survived</td><td>3</td><td>Dean, Master. Bertram Vere                     </td><td>male  </td><td> 1</td><td>1</td><td>2</td><td>C.A. 2315</td><td>20.5750</td><td>           </td><td>S</td></tr>\n",
              "\t<tr><th scope=row>873</th><td>873</td><td>Died    </td><td>1</td><td>Carlsson, Mr. Frans Olof                       </td><td>male  </td><td>33</td><td>0</td><td>0</td><td>695      </td><td> 5.0000</td><td>B51 B53 B55</td><td>S</td></tr>\n",
              "\t<tr><th scope=row>759</th><td>759</td><td>Died    </td><td>3</td><td>Theobald, Mr. Thomas Leonard                   </td><td>male  </td><td>34</td><td>0</td><td>0</td><td>363294   </td><td> 8.0500</td><td>           </td><td>S</td></tr>\n",
              "</tbody>\n",
              "</table>\n"
            ],
            "text/markdown": "\nA data.frame: 6 × 12\n\n| <!--/--> | PassengerId &lt;int&gt; | Survived &lt;fct&gt; | Pclass &lt;int&gt; | Name &lt;chr&gt; | Sex &lt;chr&gt; | Age &lt;dbl&gt; | SibSp &lt;int&gt; | Parch &lt;int&gt; | Ticket &lt;chr&gt; | Fare &lt;dbl&gt; | Cabin &lt;chr&gt; | Embarked &lt;chr&gt; |\n|---|---|---|---|---|---|---|---|---|---|---|---|---|\n| 704 | 704 | Died     | 3 | Gallagher, Mr. Martin                           | male   | 25 | 0 | 0 | 36864     |  7.7417 | <!----> | Q |\n| 168 | 168 | Died     | 3 | Skoog, Mrs. William (Anna Bernhardina Karlsson) | female | 45 | 1 | 4 | 347088    | 27.9000 | <!----> | S |\n| 793 | 793 | Died     | 3 | Sage, Miss. Stella Anna                         | female | 30 | 8 | 2 | CA. 2343  | 69.5500 | <!----> | S |\n| 789 | 789 | Survived | 3 | Dean, Master. Bertram Vere                      | male   |  1 | 1 | 2 | C.A. 2315 | 20.5750 | <!----> | S |\n| 873 | 873 | Died     | 1 | Carlsson, Mr. Frans Olof                        | male   | 33 | 0 | 0 | 695       |  5.0000 | B51 B53 B55 | S |\n| 759 | 759 | Died     | 3 | Theobald, Mr. Thomas Leonard                    | male   | 34 | 0 | 0 | 363294    |  8.0500 | <!----> | S |\n\n",
            "text/latex": "A data.frame: 6 × 12\n\\begin{tabular}{r|llllllllllll}\n  & PassengerId & Survived & Pclass & Name & Sex & Age & SibSp & Parch & Ticket & Fare & Cabin & Embarked\\\\\n  & <int> & <fct> & <int> & <chr> & <chr> & <dbl> & <int> & <int> & <chr> & <dbl> & <chr> & <chr>\\\\\n\\hline\n\t704 & 704 & Died     & 3 & Gallagher, Mr. Martin                           & male   & 25 & 0 & 0 & 36864     &  7.7417 &             & Q\\\\\n\t168 & 168 & Died     & 3 & Skoog, Mrs. William (Anna Bernhardina Karlsson) & female & 45 & 1 & 4 & 347088    & 27.9000 &             & S\\\\\n\t793 & 793 & Died     & 3 & Sage, Miss. Stella Anna                         & female & 30 & 8 & 2 & CA. 2343  & 69.5500 &             & S\\\\\n\t789 & 789 & Survived & 3 & Dean, Master. Bertram Vere                      & male   &  1 & 1 & 2 & C.A. 2315 & 20.5750 &             & S\\\\\n\t873 & 873 & Died     & 1 & Carlsson, Mr. Frans Olof                        & male   & 33 & 0 & 0 & 695       &  5.0000 & B51 B53 B55 & S\\\\\n\t759 & 759 & Died     & 3 & Theobald, Mr. Thomas Leonard                    & male   & 34 & 0 & 0 & 363294    &  8.0500 &             & S\\\\\n\\end{tabular}\n",
            "text/plain": [
              "    PassengerId Survived Pclass Name                                           \n",
              "704 704         Died     3      Gallagher, Mr. Martin                          \n",
              "168 168         Died     3      Skoog, Mrs. William (Anna Bernhardina Karlsson)\n",
              "793 793         Died     3      Sage, Miss. Stella Anna                        \n",
              "789 789         Survived 3      Dean, Master. Bertram Vere                     \n",
              "873 873         Died     1      Carlsson, Mr. Frans Olof                       \n",
              "759 759         Died     3      Theobald, Mr. Thomas Leonard                   \n",
              "    Sex    Age SibSp Parch Ticket    Fare    Cabin       Embarked\n",
              "704 male   25  0     0     36864      7.7417             Q       \n",
              "168 female 45  1     4     347088    27.9000             S       \n",
              "793 female 30  8     2     CA. 2343  69.5500             S       \n",
              "789 male    1  1     2     C.A. 2315 20.5750             S       \n",
              "873 male   33  0     0     695        5.0000 B51 B53 B55 S       \n",
              "759 male   34  0     0     363294     8.0500             S       "
            ]
          },
          "metadata": {}
        }
      ]
    },
    {
      "cell_type": "markdown",
      "source": [
        "## Logistic Regression Procedure"
      ],
      "metadata": {
        "id": "h0wS3bQF0jpG"
      }
    },
    {
      "cell_type": "code",
      "source": [
        "## Train Model\n",
        "\n",
        "# Fit Model\n",
        "logModel <- glm(Survived ~ Pclass + Sex + Age + SibSp + Parch,\n",
        "                data = train_data, family = \"binomial\")\n",
        "summary(logModel)"
      ],
      "metadata": {
        "colab": {
          "base_uri": "https://localhost:8080/",
          "height": 485
        },
        "id": "E_nyHLEkQ1Jv",
        "outputId": "2e2cf60f-5516-465e-f3ad-073cf3ce25bb"
      },
      "execution_count": null,
      "outputs": [
        {
          "output_type": "display_data",
          "data": {
            "text/plain": [
              "\n",
              "Call:\n",
              "glm(formula = Survived ~ Pclass + Sex + Age + SibSp + Parch, \n",
              "    family = \"binomial\", data = train_data)\n",
              "\n",
              "Deviance Residuals: \n",
              "    Min       1Q   Median       3Q      Max  \n",
              "-2.1201  -0.6104  -0.4097   0.5947   2.4312  \n",
              "\n",
              "Coefficients:\n",
              "             Estimate Std. Error z value Pr(>|z|)    \n",
              "(Intercept)  5.533427   0.553567   9.996  < 2e-16 ***\n",
              "Pclass      -1.244809   0.135377  -9.195  < 2e-16 ***\n",
              "Sexmale     -2.763267   0.225886 -12.233  < 2e-16 ***\n",
              "Age         -0.043057   0.008889  -4.844 1.27e-06 ***\n",
              "SibSp       -0.402414   0.125326  -3.211  0.00132 ** \n",
              "Parch       -0.055727   0.127859  -0.436  0.66295    \n",
              "---\n",
              "Signif. codes:  0 ‘***’ 0.001 ‘**’ 0.01 ‘*’ 0.05 ‘.’ 0.1 ‘ ’ 1\n",
              "\n",
              "(Dispersion parameter for binomial family taken to be 1)\n",
              "\n",
              "    Null deviance: 947.98  on 711  degrees of freedom\n",
              "Residual deviance: 624.87  on 706  degrees of freedom\n",
              "AIC: 636.87\n",
              "\n",
              "Number of Fisher Scoring iterations: 5\n"
            ]
          },
          "metadata": {}
        }
      ]
    },
    {
      "cell_type": "code",
      "source": [
        "## Train Model\n",
        "# Probablity of survival of test data\n",
        "\n",
        "train_data$Prob_survived <- predict(logModel, type = \"response\")\n",
        "train_data$Pred_survived <- ifelse(train_data$Prob_survived >= 0.5, \"Survived\", \"Died\")\n",
        "\n",
        "# Compare the reults of prediction with recorded data\n",
        "train_data %>%\n",
        "  select(PassengerId, Survived, Prob_survived, Pred_survived) %>%\n",
        "  head()"
      ],
      "metadata": {
        "colab": {
          "base_uri": "https://localhost:8080/",
          "height": 286
        },
        "id": "ThfaY2QSueNN",
        "outputId": "45a837ed-b9dc-49eb-c7f3-507c5341b0ff"
      },
      "execution_count": null,
      "outputs": [
        {
          "output_type": "display_data",
          "data": {
            "text/html": [
              "<table class=\"dataframe\">\n",
              "<caption>A data.frame: 6 × 4</caption>\n",
              "<thead>\n",
              "\t<tr><th></th><th scope=col>PassengerId</th><th scope=col>Survived</th><th scope=col>Prob_survived</th><th scope=col>Pred_survived</th></tr>\n",
              "\t<tr><th></th><th scope=col>&lt;int&gt;</th><th scope=col>&lt;fct&gt;</th><th scope=col>&lt;dbl&gt;</th><th scope=col>&lt;chr&gt;</th></tr>\n",
              "</thead>\n",
              "<tbody>\n",
              "\t<tr><th scope=row>704</th><td>704</td><td>Died    </td><td>0.11499659</td><td>Died    </td></tr>\n",
              "\t<tr><th scope=row>168</th><td>168</td><td>Died    </td><td>0.31780348</td><td>Died    </td></tr>\n",
              "\t<tr><th scope=row>793</th><td>793</td><td>Died    </td><td>0.05606866</td><td>Died    </td></tr>\n",
              "\t<tr><th scope=row>789</th><td>789</td><td>Survived</td><td>0.17928622</td><td>Died    </td></tr>\n",
              "\t<tr><th scope=row>873</th><td>873</td><td>Died    </td><td>0.52609442</td><td>Survived</td></tr>\n",
              "\t<tr><th scope=row>759</th><td>759</td><td>Died    </td><td>0.08104731</td><td>Died    </td></tr>\n",
              "</tbody>\n",
              "</table>\n"
            ],
            "text/markdown": "\nA data.frame: 6 × 4\n\n| <!--/--> | PassengerId &lt;int&gt; | Survived &lt;fct&gt; | Prob_survived &lt;dbl&gt; | Pred_survived &lt;chr&gt; |\n|---|---|---|---|---|\n| 704 | 704 | Died     | 0.11499659 | Died     |\n| 168 | 168 | Died     | 0.31780348 | Died     |\n| 793 | 793 | Died     | 0.05606866 | Died     |\n| 789 | 789 | Survived | 0.17928622 | Died     |\n| 873 | 873 | Died     | 0.52609442 | Survived |\n| 759 | 759 | Died     | 0.08104731 | Died     |\n\n",
            "text/latex": "A data.frame: 6 × 4\n\\begin{tabular}{r|llll}\n  & PassengerId & Survived & Prob\\_survived & Pred\\_survived\\\\\n  & <int> & <fct> & <dbl> & <chr>\\\\\n\\hline\n\t704 & 704 & Died     & 0.11499659 & Died    \\\\\n\t168 & 168 & Died     & 0.31780348 & Died    \\\\\n\t793 & 793 & Died     & 0.05606866 & Died    \\\\\n\t789 & 789 & Survived & 0.17928622 & Died    \\\\\n\t873 & 873 & Died     & 0.52609442 & Survived\\\\\n\t759 & 759 & Died     & 0.08104731 & Died    \\\\\n\\end{tabular}\n",
            "text/plain": [
              "    PassengerId Survived Prob_survived Pred_survived\n",
              "704 704         Died     0.11499659    Died         \n",
              "168 168         Died     0.31780348    Died         \n",
              "793 793         Died     0.05606866    Died         \n",
              "789 789         Survived 0.17928622    Died         \n",
              "873 873         Died     0.52609442    Survived     \n",
              "759 759         Died     0.08104731    Died         "
            ]
          },
          "metadata": {}
        }
      ]
    },
    {
      "cell_type": "code",
      "source": [
        "## Test Model\n",
        "# Probablity of survival of test data\n",
        "\n",
        "test_data$Prob_survived <- predict(logModel, newdata = test_data, type = \"response\")\n",
        "test_data$Pred_survived <- ifelse(test_data$Prob_survived >= 0.5, \"Survived\", \"Died\")\n",
        "\n",
        "# Compare the reults of prediction to recorded data\n",
        "test_data %>%\n",
        "  select(PassengerId, Survived, Prob_survived, Pred_survived) %>%\n",
        "  head()"
      ],
      "metadata": {
        "colab": {
          "base_uri": "https://localhost:8080/",
          "height": 286
        },
        "id": "2qVG6ZT0u0Ym",
        "outputId": "22db6769-6898-4981-c6b8-cd5fdfc91b04"
      },
      "execution_count": null,
      "outputs": [
        {
          "output_type": "display_data",
          "data": {
            "text/html": [
              "<table class=\"dataframe\">\n",
              "<caption>A data.frame: 6 × 4</caption>\n",
              "<thead>\n",
              "\t<tr><th></th><th scope=col>PassengerId</th><th scope=col>Survived</th><th scope=col>Prob_survived</th><th scope=col>Pred_survived</th></tr>\n",
              "\t<tr><th></th><th scope=col>&lt;int&gt;</th><th scope=col>&lt;fct&gt;</th><th scope=col>&lt;dbl&gt;</th><th scope=col>&lt;chr&gt;</th></tr>\n",
              "</thead>\n",
              "<tbody>\n",
              "\t<tr><th scope=row>1</th><td> 1</td><td>Died    </td><td>0.08997563</td><td>Died    </td></tr>\n",
              "\t<tr><th scope=row>4</th><td> 4</td><td>Survived</td><td>0.91522824</td><td>Survived</td></tr>\n",
              "\t<tr><th scope=row>10</th><td>10</td><td>Survived</td><td>0.88479047</td><td>Survived</td></tr>\n",
              "\t<tr><th scope=row>12</th><td>12</td><td>Survived</td><td>0.85708848</td><td>Survived</td></tr>\n",
              "\t<tr><th scope=row>15</th><td>15</td><td>Died    </td><td>0.76784882</td><td>Survived</td></tr>\n",
              "\t<tr><th scope=row>16</th><td>16</td><td>Survived</td><td>0.66277331</td><td>Survived</td></tr>\n",
              "</tbody>\n",
              "</table>\n"
            ],
            "text/markdown": "\nA data.frame: 6 × 4\n\n| <!--/--> | PassengerId &lt;int&gt; | Survived &lt;fct&gt; | Prob_survived &lt;dbl&gt; | Pred_survived &lt;chr&gt; |\n|---|---|---|---|---|\n| 1 |  1 | Died     | 0.08997563 | Died     |\n| 4 |  4 | Survived | 0.91522824 | Survived |\n| 10 | 10 | Survived | 0.88479047 | Survived |\n| 12 | 12 | Survived | 0.85708848 | Survived |\n| 15 | 15 | Died     | 0.76784882 | Survived |\n| 16 | 16 | Survived | 0.66277331 | Survived |\n\n",
            "text/latex": "A data.frame: 6 × 4\n\\begin{tabular}{r|llll}\n  & PassengerId & Survived & Prob\\_survived & Pred\\_survived\\\\\n  & <int> & <fct> & <dbl> & <chr>\\\\\n\\hline\n\t1 &  1 & Died     & 0.08997563 & Died    \\\\\n\t4 &  4 & Survived & 0.91522824 & Survived\\\\\n\t10 & 10 & Survived & 0.88479047 & Survived\\\\\n\t12 & 12 & Survived & 0.85708848 & Survived\\\\\n\t15 & 15 & Died     & 0.76784882 & Survived\\\\\n\t16 & 16 & Survived & 0.66277331 & Survived\\\\\n\\end{tabular}\n",
            "text/plain": [
              "   PassengerId Survived Prob_survived Pred_survived\n",
              "1   1          Died     0.08997563    Died         \n",
              "4   4          Survived 0.91522824    Survived     \n",
              "10 10          Survived 0.88479047    Survived     \n",
              "12 12          Survived 0.85708848    Survived     \n",
              "15 15          Died     0.76784882    Survived     \n",
              "16 16          Survived 0.66277331    Survived     "
            ]
          },
          "metadata": {}
        }
      ]
    },
    {
      "cell_type": "markdown",
      "source": [
        "# Model Evaluation"
      ],
      "metadata": {
        "id": "oyfYZzY0Kx11"
      }
    },
    {
      "cell_type": "markdown",
      "source": [
        "## Evaluate Train Data"
      ],
      "metadata": {
        "id": "yUbsaqHEK23K"
      }
    },
    {
      "cell_type": "code",
      "source": [
        "## Train confusion matrix\n",
        "conMat_train <- table(train_data$Pred_survived, train_data$Survived,\n",
        "                      dnn = c(\"Predict\", \"Actual\"))"
      ],
      "metadata": {
        "id": "TYxo0bWMvawW"
      },
      "execution_count": null,
      "outputs": []
    },
    {
      "cell_type": "code",
      "source": [
        "# creat Train DataFrame\n",
        "\n",
        "trainAccuracy <- (conMat_train[1, 1] + conMat_train[2, 2])/sum(conMat_train)\n",
        "trainPrecision <- conMat_train[2, 2]/(conMat_train[2, 1] + conMat_train[2, 2])\n",
        "trainRecall <- conMat_train[2, 2]/(conMat_train[1, 2] + conMat_train[2, 2])\n",
        "trainF1score <- 2* ((trainRecall * trainPrecision)/(trainRecall + trainPrecision))\n",
        "\n",
        "## Train Model Evaluation\n",
        "Train <- data.frame(Model = \"Train_Model\",\n",
        "                    Accuracy = trainAccuracy,\n",
        "                    Precision = trainPrecision,\n",
        "                    F1_Score = trainF1score)\n",
        "\n",
        "cat(\"Train Confusion Metrix:\\n\")\n",
        "print(conMat_train)\n",
        "cat(\"\\n\")\n",
        "cat(\"Train Model Evaluation:\\n\")\n",
        "print(Train)"
      ],
      "metadata": {
        "colab": {
          "base_uri": "https://localhost:8080/"
        },
        "id": "7MibSUysxJje",
        "outputId": "25ab87d1-8bd5-44df-f002-c5f2cdba172f"
      },
      "execution_count": null,
      "outputs": [
        {
          "output_type": "stream",
          "name": "stdout",
          "text": [
            "Train Confusion Metrix:\n",
            "          Actual\n",
            "Predict    Died Survived\n",
            "  Died      376       76\n",
            "  Survived   63      197\n",
            "\n",
            "Train Model Evaluation:\n",
            "        Model  Accuracy Precision F1_Score\n",
            "1 Train_Model 0.8047753 0.7576923 0.739212\n"
          ]
        }
      ]
    },
    {
      "cell_type": "markdown",
      "source": [
        "## Evaluate Test Data"
      ],
      "metadata": {
        "id": "PH5nm5n5K7OM"
      }
    },
    {
      "cell_type": "code",
      "source": [
        "## Test confusion matrix\n",
        "conMat_test <- table(test_data$Pred_survived, test_data$Survived,\n",
        "                     dnn = c(\"Predict\", \"Actual\"))"
      ],
      "metadata": {
        "id": "8uLP9MAqzG5r"
      },
      "execution_count": null,
      "outputs": []
    },
    {
      "cell_type": "code",
      "source": [
        "# creat Test DataFrame\n",
        "\n",
        "testAccuracy <- (conMat_test[1, 1] + conMat_test[2, 2])/sum(conMat_test)\n",
        "testPrecision <- conMat_test[2, 2]/(conMat_test[2, 1] + conMat_test[2, 2])\n",
        "testRecall <- conMat_test[2, 2]/(conMat_test[1, 2] + conMat_test[2, 2])\n",
        "testF1score <- 2* ((testRecall * testPrecision)/(testRecall + testPrecision))\n",
        "\n",
        "## Train Model Evaluation\n",
        "Test <- data.frame(Model = \"Test_Model\",\n",
        "                   Accuracy = testAccuracy,\n",
        "                   Precision = testPrecision,\n",
        "                   F1_Score = testF1score)\n",
        "\n",
        "cat(\"Test Confusion Metrix:\\n\")\n",
        "print(conMat_test)\n",
        "cat(\"\\n\")\n",
        "cat(\"Test Model Evaluation:\\n\")\n",
        "print(Test)"
      ],
      "metadata": {
        "colab": {
          "base_uri": "https://localhost:8080/"
        },
        "id": "rZ8L_QgqLQBn",
        "outputId": "4e606b7a-5e3a-4c3d-9b93-49327914e27d"
      },
      "execution_count": null,
      "outputs": [
        {
          "output_type": "stream",
          "name": "stdout",
          "text": [
            "Test Confusion Metrix:\n",
            "          Actual\n",
            "Predict    Died Survived\n",
            "  Died       89       17\n",
            "  Survived   21       52\n",
            "\n",
            "Test Model Evaluation:\n",
            "       Model  Accuracy Precision  F1_Score\n",
            "1 Test_Model 0.7877095 0.7123288 0.7323944\n"
          ]
        }
      ]
    },
    {
      "cell_type": "markdown",
      "source": [
        "# Summarisation"
      ],
      "metadata": {
        "id": "qK-P-5MzMFSS"
      }
    },
    {
      "cell_type": "code",
      "source": [
        "TrainTest <- bind_rows(Train, Test)\n",
        "tibble(TrainTest)"
      ],
      "metadata": {
        "id": "SYGo8CmPMH5E",
        "outputId": "8a3e1956-d225-4fd6-a373-e6d416d934c4",
        "colab": {
          "base_uri": "https://localhost:8080/",
          "height": 161
        }
      },
      "execution_count": null,
      "outputs": [
        {
          "output_type": "display_data",
          "data": {
            "text/html": [
              "<table class=\"dataframe\">\n",
              "<caption>A tibble: 2 × 4</caption>\n",
              "<thead>\n",
              "\t<tr><th scope=col>Model</th><th scope=col>Accuracy</th><th scope=col>Precision</th><th scope=col>F1_Score</th></tr>\n",
              "\t<tr><th scope=col>&lt;chr&gt;</th><th scope=col>&lt;dbl&gt;</th><th scope=col>&lt;dbl&gt;</th><th scope=col>&lt;dbl&gt;</th></tr>\n",
              "</thead>\n",
              "<tbody>\n",
              "\t<tr><td>Train_Model</td><td>0.8047753</td><td>0.7576923</td><td>0.7392120</td></tr>\n",
              "\t<tr><td>Test_Model </td><td>0.7877095</td><td>0.7123288</td><td>0.7323944</td></tr>\n",
              "</tbody>\n",
              "</table>\n"
            ],
            "text/markdown": "\nA tibble: 2 × 4\n\n| Model &lt;chr&gt; | Accuracy &lt;dbl&gt; | Precision &lt;dbl&gt; | F1_Score &lt;dbl&gt; |\n|---|---|---|---|\n| Train_Model | 0.8047753 | 0.7576923 | 0.7392120 |\n| Test_Model  | 0.7877095 | 0.7123288 | 0.7323944 |\n\n",
            "text/latex": "A tibble: 2 × 4\n\\begin{tabular}{llll}\n Model & Accuracy & Precision & F1\\_Score\\\\\n <chr> & <dbl> & <dbl> & <dbl>\\\\\n\\hline\n\t Train\\_Model & 0.8047753 & 0.7576923 & 0.7392120\\\\\n\t Test\\_Model  & 0.7877095 & 0.7123288 & 0.7323944\\\\\n\\end{tabular}\n",
            "text/plain": [
              "  Model       Accuracy  Precision F1_Score \n",
              "1 Train_Model 0.8047753 0.7576923 0.7392120\n",
              "2 Test_Model  0.7877095 0.7123288 0.7323944"
            ]
          },
          "metadata": {}
        }
      ]
    }
  ]
}