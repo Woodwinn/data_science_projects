{
  "nbformat": 4,
  "nbformat_minor": 0,
  "metadata": {
    "colab": {
      "provenance": []
    },
    "kernelspec": {
      "name": "ir",
      "display_name": "R"
    },
    "language_info": {
      "name": "R"
    }
  },
  "cells": [
    {
      "cell_type": "markdown",
      "source": [
        "# NYC Flights Analysis\n",
        "\n",
        "Data Transformation with R Programming\n",
        "\n",
        "DataRockie: Data Science Bootcamp"
      ],
      "metadata": {
        "id": "WuX5HT5QCoq4"
      }
    },
    {
      "cell_type": "markdown",
      "source": [
        "## Data Transformation"
      ],
      "metadata": {
        "id": "7YQjxcKFCsA1"
      }
    },
    {
      "cell_type": "code",
      "source": [
        "install.packages(\"nycflights13\")\n",
        "\n",
        "library(dplyr)\n",
        "library(readr)\n",
        "library(tidyverse)"
      ],
      "metadata": {
        "colab": {
          "base_uri": "https://localhost:8080/"
        },
        "id": "DtWe3tCDDA4f",
        "outputId": "ef7d7388-a661-417e-e3ec-e06526fbf1ac"
      },
      "execution_count": null,
      "outputs": [
        {
          "output_type": "stream",
          "name": "stderr",
          "text": [
            "Installing package into ‘/usr/local/lib/R/site-library’\n",
            "(as ‘lib’ is unspecified)\n",
            "\n",
            "Warning message in system(\"timedatectl\", intern = TRUE):\n",
            "“running command 'timedatectl' had status 1”\n",
            "── \u001b[1mAttaching packages\u001b[22m ─────────────────────────────────────── tidyverse 1.3.1 ──\n",
            "\n",
            "\u001b[32m✔\u001b[39m \u001b[34mggplot2\u001b[39m 3.4.0     \u001b[32m✔\u001b[39m \u001b[34mpurrr  \u001b[39m 1.0.1\n",
            "\u001b[32m✔\u001b[39m \u001b[34mtibble \u001b[39m 3.1.8     \u001b[32m✔\u001b[39m \u001b[34mstringr\u001b[39m 1.4.1\n",
            "\u001b[32m✔\u001b[39m \u001b[34mtidyr  \u001b[39m 1.3.0     \u001b[32m✔\u001b[39m \u001b[34mforcats\u001b[39m 0.5.2\n",
            "\n",
            "── \u001b[1mConflicts\u001b[22m ────────────────────────────────────────── tidyverse_conflicts() ──\n",
            "\u001b[31m✖\u001b[39m \u001b[34mdplyr\u001b[39m::\u001b[32mfilter()\u001b[39m  masks \u001b[34mstats\u001b[39m::filter()\n",
            "\u001b[31m✖\u001b[39m \u001b[34mpurrr\u001b[39m::\u001b[32mflatten()\u001b[39m masks \u001b[34mjsonlite\u001b[39m::flatten()\n",
            "\u001b[31m✖\u001b[39m \u001b[34mdplyr\u001b[39m::\u001b[32mlag()\u001b[39m     masks \u001b[34mstats\u001b[39m::lag()\n",
            "\n"
          ]
        }
      ]
    },
    {
      "cell_type": "code",
      "source": [
        "# Preparing Data\n",
        "\n",
        "airlines <- read.csv(\"airlines.csv\")\n",
        "flights  <- read.csv(\"flights.csv\")\n",
        "airports <- read.csv(\"airports.csv\")\n",
        "planes   <- read.csv(\"planes.csv\")\n",
        "weather <- read.csv(\"weather.csv\")"
      ],
      "metadata": {
        "id": "rZ-mek58D6u4"
      },
      "execution_count": null,
      "outputs": []
    },
    {
      "cell_type": "code",
      "source": [
        "## Confirm structure of DataFrame\n",
        "\n",
        "glimpse(flights)\n",
        "cat(\"\\n\")\n",
        "glimpse(airlines)\n",
        "cat(\"\\n\")\n",
        "glimpse(airports)\n",
        "cat(\"\\n\")\n",
        "glimpse(planes)\n",
        "cat(\"\\n\")\n",
        "glimpse(weather)"
      ],
      "metadata": {
        "colab": {
          "base_uri": "https://localhost:8080/"
        },
        "id": "_BzXlCi7Dz6t",
        "outputId": "e964c429-de8c-4d1f-eb9d-7e4a99e04003"
      },
      "execution_count": null,
      "outputs": [
        {
          "output_type": "stream",
          "name": "stdout",
          "text": [
            "Rows: 336,776\n",
            "Columns: 19\n",
            "$ year           \u001b[3m\u001b[90m<int>\u001b[39m\u001b[23m 2013, 2013, 2013, 2013, 2013, 2013, 2013, 2013, 2013, 2…\n",
            "$ month          \u001b[3m\u001b[90m<int>\u001b[39m\u001b[23m 1, 1, 1, 1, 1, 1, 1, 1, 1, 1, 1, 1, 1, 1, 1, 1, 1, 1, 1…\n",
            "$ day            \u001b[3m\u001b[90m<int>\u001b[39m\u001b[23m 1, 1, 1, 1, 1, 1, 1, 1, 1, 1, 1, 1, 1, 1, 1, 1, 1, 1, 1…\n",
            "$ dep_time       \u001b[3m\u001b[90m<int>\u001b[39m\u001b[23m 517, 533, 542, 544, 554, 554, 555, 557, 557, 558, 558, …\n",
            "$ sched_dep_time \u001b[3m\u001b[90m<int>\u001b[39m\u001b[23m 515, 529, 540, 545, 600, 558, 600, 600, 600, 600, 600, …\n",
            "$ dep_delay      \u001b[3m\u001b[90m<int>\u001b[39m\u001b[23m 2, 4, 2, -1, -6, -4, -5, -3, -3, -2, -2, -2, -2, -2, -1…\n",
            "$ arr_time       \u001b[3m\u001b[90m<int>\u001b[39m\u001b[23m 830, 850, 923, 1004, 812, 740, 913, 709, 838, 753, 849,…\n",
            "$ sched_arr_time \u001b[3m\u001b[90m<int>\u001b[39m\u001b[23m 819, 830, 850, 1022, 837, 728, 854, 723, 846, 745, 851,…\n",
            "$ arr_delay      \u001b[3m\u001b[90m<int>\u001b[39m\u001b[23m 11, 20, 33, -18, -25, 12, 19, -14, -8, 8, -2, -3, 7, -1…\n",
            "$ carrier        \u001b[3m\u001b[90m<chr>\u001b[39m\u001b[23m \"UA\", \"UA\", \"AA\", \"B6\", \"DL\", \"UA\", \"B6\", \"EV\", \"B6\", \"…\n",
            "$ flight         \u001b[3m\u001b[90m<int>\u001b[39m\u001b[23m 1545, 1714, 1141, 725, 461, 1696, 507, 5708, 79, 301, 4…\n",
            "$ tailnum        \u001b[3m\u001b[90m<chr>\u001b[39m\u001b[23m \"N14228\", \"N24211\", \"N619AA\", \"N804JB\", \"N668DN\", \"N394…\n",
            "$ origin         \u001b[3m\u001b[90m<chr>\u001b[39m\u001b[23m \"EWR\", \"LGA\", \"JFK\", \"JFK\", \"LGA\", \"EWR\", \"EWR\", \"LGA\",…\n",
            "$ dest           \u001b[3m\u001b[90m<chr>\u001b[39m\u001b[23m \"IAH\", \"IAH\", \"MIA\", \"BQN\", \"ATL\", \"ORD\", \"FLL\", \"IAD\",…\n",
            "$ air_time       \u001b[3m\u001b[90m<int>\u001b[39m\u001b[23m 227, 227, 160, 183, 116, 150, 158, 53, 140, 138, 149, 1…\n",
            "$ distance       \u001b[3m\u001b[90m<int>\u001b[39m\u001b[23m 1400, 1416, 1089, 1576, 762, 719, 1065, 229, 944, 733, …\n",
            "$ hour           \u001b[3m\u001b[90m<int>\u001b[39m\u001b[23m 5, 5, 5, 5, 6, 5, 6, 6, 6, 6, 6, 6, 6, 6, 6, 5, 6, 6, 6…\n",
            "$ minute         \u001b[3m\u001b[90m<int>\u001b[39m\u001b[23m 15, 29, 40, 45, 0, 58, 0, 0, 0, 0, 0, 0, 0, 0, 0, 59, 0…\n",
            "$ time_hour      \u001b[3m\u001b[90m<chr>\u001b[39m\u001b[23m \"2013-01-01T10:00:00Z\", \"2013-01-01T10:00:00Z\", \"2013-0…\n",
            "\n",
            "Rows: 16\n",
            "Columns: 2\n",
            "$ carrier \u001b[3m\u001b[90m<chr>\u001b[39m\u001b[23m \"9E\", \"AA\", \"AS\", \"B6\", \"DL\", \"EV\", \"F9\", \"FL\", \"HA\", \"MQ\", \"O…\n",
            "$ name    \u001b[3m\u001b[90m<chr>\u001b[39m\u001b[23m \"Endeavor Air Inc.\", \"American Airlines Inc.\", \"Alaska Airline…\n",
            "\n",
            "Rows: 1,458\n",
            "Columns: 8\n",
            "$ faa   \u001b[3m\u001b[90m<chr>\u001b[39m\u001b[23m \"04G\", \"06A\", \"06C\", \"06N\", \"09J\", \"0A9\", \"0G6\", \"0G7\", \"0P2\", \"…\n",
            "$ name  \u001b[3m\u001b[90m<chr>\u001b[39m\u001b[23m \"Lansdowne Airport\", \"Moton Field Municipal Airport\", \"Schaumbur…\n",
            "$ lat   \u001b[3m\u001b[90m<dbl>\u001b[39m\u001b[23m 41.13047, 32.46057, 41.98934, 41.43191, 31.07447, 36.37122, 41.4…\n",
            "$ lon   \u001b[3m\u001b[90m<dbl>\u001b[39m\u001b[23m -80.61958, -85.68003, -88.10124, -74.39156, -81.42778, -82.17342…\n",
            "$ alt   \u001b[3m\u001b[90m<int>\u001b[39m\u001b[23m 1044, 264, 801, 523, 11, 1593, 730, 492, 1000, 108, 409, 875, 10…\n",
            "$ tz    \u001b[3m\u001b[90m<int>\u001b[39m\u001b[23m -5, -6, -6, -5, -5, -5, -5, -5, -5, -8, -5, -6, -5, -5, -5, -5, …\n",
            "$ dst   \u001b[3m\u001b[90m<chr>\u001b[39m\u001b[23m \"A\", \"A\", \"A\", \"A\", \"A\", \"A\", \"A\", \"A\", \"U\", \"A\", \"A\", \"U\", \"A\",…\n",
            "$ tzone \u001b[3m\u001b[90m<chr>\u001b[39m\u001b[23m \"America/New_York\", \"America/Chicago\", \"America/Chicago\", \"Ameri…\n",
            "\n",
            "Rows: 3,322\n",
            "Columns: 9\n",
            "$ tailnum      \u001b[3m\u001b[90m<chr>\u001b[39m\u001b[23m \"N10156\", \"N102UW\", \"N103US\", \"N104UW\", \"N10575\", \"N105UW…\n",
            "$ year         \u001b[3m\u001b[90m<int>\u001b[39m\u001b[23m 2004, 1998, 1999, 1999, 2002, 1999, 1999, 1999, 1999, 199…\n",
            "$ type         \u001b[3m\u001b[90m<chr>\u001b[39m\u001b[23m \"Fixed wing multi engine\", \"Fixed wing multi engine\", \"Fi…\n",
            "$ manufacturer \u001b[3m\u001b[90m<chr>\u001b[39m\u001b[23m \"EMBRAER\", \"AIRBUS INDUSTRIE\", \"AIRBUS INDUSTRIE\", \"AIRBU…\n",
            "$ model        \u001b[3m\u001b[90m<chr>\u001b[39m\u001b[23m \"EMB-145XR\", \"A320-214\", \"A320-214\", \"A320-214\", \"EMB-145…\n",
            "$ engines      \u001b[3m\u001b[90m<int>\u001b[39m\u001b[23m 2, 2, 2, 2, 2, 2, 2, 2, 2, 2, 2, 2, 2, 2, 2, 2, 2, 2, 2, …\n",
            "$ seats        \u001b[3m\u001b[90m<int>\u001b[39m\u001b[23m 55, 182, 182, 182, 55, 182, 182, 182, 182, 182, 55, 55, 5…\n",
            "$ speed        \u001b[3m\u001b[90m<int>\u001b[39m\u001b[23m NA, NA, NA, NA, NA, NA, NA, NA, NA, NA, NA, NA, NA, NA, N…\n",
            "$ engine       \u001b[3m\u001b[90m<chr>\u001b[39m\u001b[23m \"Turbo-fan\", \"Turbo-fan\", \"Turbo-fan\", \"Turbo-fan\", \"Turb…\n",
            "\n",
            "Rows: 26,115\n",
            "Columns: 15\n",
            "$ origin     \u001b[3m\u001b[90m<chr>\u001b[39m\u001b[23m \"EWR\", \"EWR\", \"EWR\", \"EWR\", \"EWR\", \"EWR\", \"EWR\", \"EWR\", \"EW…\n",
            "$ year       \u001b[3m\u001b[90m<int>\u001b[39m\u001b[23m 2013, 2013, 2013, 2013, 2013, 2013, 2013, 2013, 2013, 2013,…\n",
            "$ month      \u001b[3m\u001b[90m<int>\u001b[39m\u001b[23m 1, 1, 1, 1, 1, 1, 1, 1, 1, 1, 1, 1, 1, 1, 1, 1, 1, 1, 1, 1,…\n",
            "$ day        \u001b[3m\u001b[90m<int>\u001b[39m\u001b[23m 1, 1, 1, 1, 1, 1, 1, 1, 1, 1, 1, 1, 1, 1, 1, 1, 1, 1, 1, 1,…\n",
            "$ hour       \u001b[3m\u001b[90m<int>\u001b[39m\u001b[23m 1, 2, 3, 4, 5, 6, 7, 8, 9, 10, 11, 13, 14, 15, 16, 17, 18, …\n",
            "$ temp       \u001b[3m\u001b[90m<dbl>\u001b[39m\u001b[23m 39.02, 39.02, 39.02, 39.92, 39.02, 37.94, 39.02, 39.92, 39.…\n",
            "$ dewp       \u001b[3m\u001b[90m<dbl>\u001b[39m\u001b[23m 26.06, 26.96, 28.04, 28.04, 28.04, 28.04, 28.04, 28.04, 28.…\n",
            "$ humid      \u001b[3m\u001b[90m<dbl>\u001b[39m\u001b[23m 59.37, 61.63, 64.43, 62.21, 64.43, 67.21, 64.43, 62.21, 62.…\n",
            "$ wind_dir   \u001b[3m\u001b[90m<int>\u001b[39m\u001b[23m 270, 250, 240, 250, 260, 240, 240, 250, 260, 260, 260, 330,…\n",
            "$ wind_speed \u001b[3m\u001b[90m<dbl>\u001b[39m\u001b[23m 10.35702, 8.05546, 11.50780, 12.65858, 12.65858, 11.50780, …\n",
            "$ wind_gust  \u001b[3m\u001b[90m<dbl>\u001b[39m\u001b[23m NA, NA, NA, NA, NA, NA, NA, NA, NA, NA, NA, NA, NA, NA, 20.…\n",
            "$ precip     \u001b[3m\u001b[90m<dbl>\u001b[39m\u001b[23m 0, 0, 0, 0, 0, 0, 0, 0, 0, 0, 0, 0, 0, 0, 0, 0, 0, 0, 0, 0,…\n",
            "$ pressure   \u001b[3m\u001b[90m<dbl>\u001b[39m\u001b[23m 1012.0, 1012.3, 1012.5, 1012.2, 1011.9, 1012.4, 1012.2, 101…\n",
            "$ visib      \u001b[3m\u001b[90m<dbl>\u001b[39m\u001b[23m 10, 10, 10, 10, 10, 10, 10, 10, 10, 10, 10, 10, 10, 10, 10,…\n",
            "$ time_hour  \u001b[3m\u001b[90m<chr>\u001b[39m\u001b[23m \"2013-01-01T06:00:00Z\", \"2013-01-01T07:00:00Z\", \"2013-01-01…\n"
          ]
        }
      ]
    },
    {
      "cell_type": "markdown",
      "source": [
        "### 01 Which airline has total longest flight distance in August 2013?"
      ],
      "metadata": {
        "id": "yf5SjhKfFLzS"
      }
    },
    {
      "cell_type": "code",
      "source": [
        "(flights %>%\n",
        "  filter(year == 2013, month == 8) %>%\n",
        "  group_by(carrier) %>%\n",
        "  summarise(sum_distance = sum(distance)) %>%\n",
        "  arrange(desc(sum_distance)) %>%\n",
        "  left_join(airlines, by = \"carrier\") -> df1) %>%\n",
        "  head(5)"
      ],
      "metadata": {
        "colab": {
          "base_uri": "https://localhost:8080/",
          "height": 255
        },
        "id": "SQU-sdsfFLUA",
        "outputId": "fe27d30f-182f-4753-c24f-81ada9074a37"
      },
      "execution_count": null,
      "outputs": [
        {
          "output_type": "display_data",
          "data": {
            "text/html": [
              "<table class=\"dataframe\">\n",
              "<caption>A tibble: 5 × 3</caption>\n",
              "<thead>\n",
              "\t<tr><th scope=col>carrier</th><th scope=col>sum_distance</th><th scope=col>name</th></tr>\n",
              "\t<tr><th scope=col>&lt;chr&gt;</th><th scope=col>&lt;int&gt;</th><th scope=col>&lt;chr&gt;</th></tr>\n",
              "</thead>\n",
              "<tbody>\n",
              "\t<tr><td>UA</td><td>8162260</td><td>United Air Lines Inc.   </td></tr>\n",
              "\t<tr><td>DL</td><td>5326470</td><td>Delta Air Lines Inc.    </td></tr>\n",
              "\t<tr><td>B6</td><td>5278235</td><td>JetBlue Airways         </td></tr>\n",
              "\t<tr><td>AA</td><td>3787864</td><td>American Airlines Inc.  </td></tr>\n",
              "\t<tr><td>EV</td><td>2651178</td><td>ExpressJet Airlines Inc.</td></tr>\n",
              "</tbody>\n",
              "</table>\n"
            ],
            "text/markdown": "\nA tibble: 5 × 3\n\n| carrier &lt;chr&gt; | sum_distance &lt;int&gt; | name &lt;chr&gt; |\n|---|---|---|\n| UA | 8162260 | United Air Lines Inc.    |\n| DL | 5326470 | Delta Air Lines Inc.     |\n| B6 | 5278235 | JetBlue Airways          |\n| AA | 3787864 | American Airlines Inc.   |\n| EV | 2651178 | ExpressJet Airlines Inc. |\n\n",
            "text/latex": "A tibble: 5 × 3\n\\begin{tabular}{lll}\n carrier & sum\\_distance & name\\\\\n <chr> & <int> & <chr>\\\\\n\\hline\n\t UA & 8162260 & United Air Lines Inc.   \\\\\n\t DL & 5326470 & Delta Air Lines Inc.    \\\\\n\t B6 & 5278235 & JetBlue Airways         \\\\\n\t AA & 3787864 & American Airlines Inc.  \\\\\n\t EV & 2651178 & ExpressJet Airlines Inc.\\\\\n\\end{tabular}\n",
            "text/plain": [
              "  carrier sum_distance name                    \n",
              "1 UA      8162260      United Air Lines Inc.   \n",
              "2 DL      5326470      Delta Air Lines Inc.    \n",
              "3 B6      5278235      JetBlue Airways         \n",
              "4 AA      3787864      American Airlines Inc.  \n",
              "5 EV      2651178      ExpressJet Airlines Inc."
            ]
          },
          "metadata": {}
        }
      ]
    },
    {
      "cell_type": "markdown",
      "source": [
        "### 02 Top 5 airline operated in Quarter 3 of 2013 (July - September, 2013)"
      ],
      "metadata": {
        "id": "-oyM4arWGGGT"
      }
    },
    {
      "cell_type": "code",
      "source": [
        "(flights %>%\n",
        "    drop_na() %>%\n",
        "    filter(month %in% c(7, 8, 9)) %>%\n",
        "    group_by(carrier) %>%\n",
        "    count(carrier) %>%\n",
        "    rename(operate_counts = n) %>%\n",
        "    arrange(desc(operate_counts)) %>%\n",
        "    left_join(airlines %>%\n",
        "        rename(carrier_name = name), by = \"carrier\") %>%\n",
        "    select(carrier_name, operate_counts) -> df2) %>%\n",
        "    head(5)"
      ],
      "metadata": {
        "colab": {
          "base_uri": "https://localhost:8080/",
          "height": 272
        },
        "id": "5kwpd23ZGC6H",
        "outputId": "807cfa8c-141a-4e5b-bd45-31ea22562587"
      },
      "execution_count": null,
      "outputs": [
        {
          "output_type": "stream",
          "name": "stderr",
          "text": [
            "\u001b[1m\u001b[22mAdding missing grouping variables: `carrier`\n"
          ]
        },
        {
          "output_type": "display_data",
          "data": {
            "text/html": [
              "<table class=\"dataframe\">\n",
              "<caption>A grouped_df: 5 × 3</caption>\n",
              "<thead>\n",
              "\t<tr><th scope=col>carrier</th><th scope=col>carrier_name</th><th scope=col>operate_counts</th></tr>\n",
              "\t<tr><th scope=col>&lt;chr&gt;</th><th scope=col>&lt;chr&gt;</th><th scope=col>&lt;int&gt;</th></tr>\n",
              "</thead>\n",
              "<tbody>\n",
              "\t<tr><td>UA</td><td>United Air Lines Inc.   </td><td>14692</td></tr>\n",
              "\t<tr><td>B6</td><td>JetBlue Airways         </td><td>14113</td></tr>\n",
              "\t<tr><td>EV</td><td>ExpressJet Airlines Inc.</td><td>13188</td></tr>\n",
              "\t<tr><td>DL</td><td>Delta Air Lines Inc.    </td><td>12356</td></tr>\n",
              "\t<tr><td>AA</td><td>American Airlines Inc.  </td><td> 8156</td></tr>\n",
              "</tbody>\n",
              "</table>\n"
            ],
            "text/markdown": "\nA grouped_df: 5 × 3\n\n| carrier &lt;chr&gt; | carrier_name &lt;chr&gt; | operate_counts &lt;int&gt; |\n|---|---|---|\n| UA | United Air Lines Inc.    | 14692 |\n| B6 | JetBlue Airways          | 14113 |\n| EV | ExpressJet Airlines Inc. | 13188 |\n| DL | Delta Air Lines Inc.     | 12356 |\n| AA | American Airlines Inc.   |  8156 |\n\n",
            "text/latex": "A grouped\\_df: 5 × 3\n\\begin{tabular}{lll}\n carrier & carrier\\_name & operate\\_counts\\\\\n <chr> & <chr> & <int>\\\\\n\\hline\n\t UA & United Air Lines Inc.    & 14692\\\\\n\t B6 & JetBlue Airways          & 14113\\\\\n\t EV & ExpressJet Airlines Inc. & 13188\\\\\n\t DL & Delta Air Lines Inc.     & 12356\\\\\n\t AA & American Airlines Inc.   &  8156\\\\\n\\end{tabular}\n",
            "text/plain": [
              "  carrier carrier_name             operate_counts\n",
              "1 UA      United Air Lines Inc.    14692         \n",
              "2 B6      JetBlue Airways          14113         \n",
              "3 EV      ExpressJet Airlines Inc. 13188         \n",
              "4 DL      Delta Air Lines Inc.     12356         \n",
              "5 AA      American Airlines Inc.    8156         "
            ]
          },
          "metadata": {}
        }
      ]
    },
    {
      "cell_type": "markdown",
      "source": [
        "### 03 The most frequently used manufacturer airplane in 2013, and describe the aircraft manufacturer and model."
      ],
      "metadata": {
        "id": "B_599LkPG8FC"
      }
    },
    {
      "cell_type": "code",
      "source": [
        "#Check N/A of model/manufacturer/tail number of planes dataframe\n",
        "\n",
        "check_na <- function(col) {\n",
        "  sum(is.na(col))\n",
        "}\n",
        "\n",
        "apply(planes, MARGIN=2, check_na)"
      ],
      "metadata": {
        "colab": {
          "base_uri": "https://localhost:8080/",
          "height": 34
        },
        "id": "yGXjepeMIsoI",
        "outputId": "c78ed3ed-3c97-4e30-9c9b-525cc7f23771"
      },
      "execution_count": null,
      "outputs": [
        {
          "output_type": "display_data",
          "data": {
            "text/html": [
              "<style>\n",
              ".dl-inline {width: auto; margin:0; padding: 0}\n",
              ".dl-inline>dt, .dl-inline>dd {float: none; width: auto; display: inline-block}\n",
              ".dl-inline>dt::after {content: \":\\0020\"; padding-right: .5ex}\n",
              ".dl-inline>dt:not(:first-of-type) {padding-left: .5ex}\n",
              "</style><dl class=dl-inline><dt>tailnum</dt><dd>0</dd><dt>year</dt><dd>70</dd><dt>type</dt><dd>0</dd><dt>manufacturer</dt><dd>0</dd><dt>model</dt><dd>0</dd><dt>engines</dt><dd>0</dd><dt>seats</dt><dd>0</dd><dt>speed</dt><dd>3299</dd><dt>engine</dt><dd>0</dd></dl>\n"
            ],
            "text/markdown": "tailnum\n:   0year\n:   70type\n:   0manufacturer\n:   0model\n:   0engines\n:   0seats\n:   0speed\n:   3299engine\n:   0\n\n",
            "text/latex": "\\begin{description*}\n\\item[tailnum] 0\n\\item[year] 70\n\\item[type] 0\n\\item[manufacturer] 0\n\\item[model] 0\n\\item[engines] 0\n\\item[seats] 0\n\\item[speed] 3299\n\\item[engine] 0\n\\end{description*}\n",
            "text/plain": [
              "     tailnum         year         type manufacturer        model      engines \n",
              "           0           70            0            0            0            0 \n",
              "       seats        speed       engine \n",
              "           0         3299            0 "
            ]
          },
          "metadata": {}
        }
      ]
    },
    {
      "cell_type": "code",
      "source": [
        "(flights %>%\n",
        "    drop_na() %>%\n",
        "    select(tailnum, carrier) %>%\n",
        "    left_join(planes %>%\n",
        "        select(tailnum, manufacturer, model), by=\"tailnum\") %>%\n",
        "    drop_na() %>%\n",
        "    count(model, manufacturer) %>%\n",
        "    rename(operated_count = n) %>%\n",
        "    arrange(desc(operated_count)) -> df3) %>%\n",
        "    head(10)"
      ],
      "metadata": {
        "colab": {
          "base_uri": "https://localhost:8080/",
          "height": 411
        },
        "id": "1h1hvuIpG5gK",
        "outputId": "2180cca9-9052-4802-b84b-977e5fcd890d"
      },
      "execution_count": null,
      "outputs": [
        {
          "output_type": "display_data",
          "data": {
            "text/html": [
              "<table class=\"dataframe\">\n",
              "<caption>A data.frame: 10 × 3</caption>\n",
              "<thead>\n",
              "\t<tr><th></th><th scope=col>model</th><th scope=col>manufacturer</th><th scope=col>operated_count</th></tr>\n",
              "\t<tr><th></th><th scope=col>&lt;chr&gt;</th><th scope=col>&lt;chr&gt;</th><th scope=col>&lt;int&gt;</th></tr>\n",
              "</thead>\n",
              "<tbody>\n",
              "\t<tr><th scope=row>1</th><td>A320-232       </td><td>AIRBUS                       </td><td>30972</td></tr>\n",
              "\t<tr><th scope=row>2</th><td>EMB-145LR      </td><td>EMBRAER                      </td><td>26475</td></tr>\n",
              "\t<tr><th scope=row>3</th><td>ERJ 190-100 IGW</td><td>EMBRAER                      </td><td>23481</td></tr>\n",
              "\t<tr><th scope=row>4</th><td>A320-232       </td><td>AIRBUS INDUSTRIE             </td><td>14465</td></tr>\n",
              "\t<tr><th scope=row>5</th><td>737-824        </td><td>BOEING                       </td><td>13773</td></tr>\n",
              "\t<tr><th scope=row>6</th><td>EMB-145XR      </td><td>EMBRAER                      </td><td>13312</td></tr>\n",
              "\t<tr><th scope=row>7</th><td>CL-600-2D24    </td><td>BOMBARDIER INC               </td><td>11656</td></tr>\n",
              "\t<tr><th scope=row>8</th><td>737-7H4        </td><td>BOEING                       </td><td>10227</td></tr>\n",
              "\t<tr><th scope=row>9</th><td>757-222        </td><td>BOEING                       </td><td> 9126</td></tr>\n",
              "\t<tr><th scope=row>10</th><td>MD-88          </td><td>MCDONNELL DOUGLAS AIRCRAFT CO</td><td> 8840</td></tr>\n",
              "</tbody>\n",
              "</table>\n"
            ],
            "text/markdown": "\nA data.frame: 10 × 3\n\n| <!--/--> | model &lt;chr&gt; | manufacturer &lt;chr&gt; | operated_count &lt;int&gt; |\n|---|---|---|---|\n| 1 | A320-232        | AIRBUS                        | 30972 |\n| 2 | EMB-145LR       | EMBRAER                       | 26475 |\n| 3 | ERJ 190-100 IGW | EMBRAER                       | 23481 |\n| 4 | A320-232        | AIRBUS INDUSTRIE              | 14465 |\n| 5 | 737-824         | BOEING                        | 13773 |\n| 6 | EMB-145XR       | EMBRAER                       | 13312 |\n| 7 | CL-600-2D24     | BOMBARDIER INC                | 11656 |\n| 8 | 737-7H4         | BOEING                        | 10227 |\n| 9 | 757-222         | BOEING                        |  9126 |\n| 10 | MD-88           | MCDONNELL DOUGLAS AIRCRAFT CO |  8840 |\n\n",
            "text/latex": "A data.frame: 10 × 3\n\\begin{tabular}{r|lll}\n  & model & manufacturer & operated\\_count\\\\\n  & <chr> & <chr> & <int>\\\\\n\\hline\n\t1 & A320-232        & AIRBUS                        & 30972\\\\\n\t2 & EMB-145LR       & EMBRAER                       & 26475\\\\\n\t3 & ERJ 190-100 IGW & EMBRAER                       & 23481\\\\\n\t4 & A320-232        & AIRBUS INDUSTRIE              & 14465\\\\\n\t5 & 737-824         & BOEING                        & 13773\\\\\n\t6 & EMB-145XR       & EMBRAER                       & 13312\\\\\n\t7 & CL-600-2D24     & BOMBARDIER INC                & 11656\\\\\n\t8 & 737-7H4         & BOEING                        & 10227\\\\\n\t9 & 757-222         & BOEING                        &  9126\\\\\n\t10 & MD-88           & MCDONNELL DOUGLAS AIRCRAFT CO &  8840\\\\\n\\end{tabular}\n",
            "text/plain": [
              "   model           manufacturer                  operated_count\n",
              "1  A320-232        AIRBUS                        30972         \n",
              "2  EMB-145LR       EMBRAER                       26475         \n",
              "3  ERJ 190-100 IGW EMBRAER                       23481         \n",
              "4  A320-232        AIRBUS INDUSTRIE              14465         \n",
              "5  737-824         BOEING                        13773         \n",
              "6  EMB-145XR       EMBRAER                       13312         \n",
              "7  CL-600-2D24     BOMBARDIER INC                11656         \n",
              "8  737-7H4         BOEING                        10227         \n",
              "9  757-222         BOEING                         9126         \n",
              "10 MD-88           MCDONNELL DOUGLAS AIRCRAFT CO  8840         "
            ]
          },
          "metadata": {}
        }
      ]
    },
    {
      "cell_type": "markdown",
      "source": [
        "### 04 The highest demand route with name of origin and destination airport"
      ],
      "metadata": {
        "id": "dVOKsxa-OhPS"
      }
    },
    {
      "cell_type": "code",
      "source": [
        "#flights %>%\n",
        "#   distinct(origin, dest)\n",
        "\n",
        "(flights %>%\n",
        "    count(origin,dest) %>%\n",
        "    arrange(desc(n)) %>%\n",
        "    left_join(airports %>%\n",
        "        select(faa, name), by = c(\"origin\" = \"faa\")) %>%\n",
        "    rename(name_origin = name) %>%\n",
        "    left_join(airports %>%\n",
        "        select(faa, name), by = c(\"dest\" = \"faa\")) %>%\n",
        "    rename(name_dest = name) %>%\n",
        "    select(name_origin, origin, name_dest, dest, n) -> df44) %>%\n",
        "    head(10) "
      ],
      "metadata": {
        "colab": {
          "base_uri": "https://localhost:8080/",
          "height": 411
        },
        "id": "dXuTy-7XOhHx",
        "outputId": "d171a741-2eac-460e-f478-223354d47190"
      },
      "execution_count": null,
      "outputs": [
        {
          "output_type": "display_data",
          "data": {
            "text/html": [
              "<table class=\"dataframe\">\n",
              "<caption>A data.frame: 10 × 5</caption>\n",
              "<thead>\n",
              "\t<tr><th></th><th scope=col>name_origin</th><th scope=col>origin</th><th scope=col>name_dest</th><th scope=col>dest</th><th scope=col>n</th></tr>\n",
              "\t<tr><th></th><th scope=col>&lt;chr&gt;</th><th scope=col>&lt;chr&gt;</th><th scope=col>&lt;chr&gt;</th><th scope=col>&lt;chr&gt;</th><th scope=col>&lt;int&gt;</th></tr>\n",
              "</thead>\n",
              "<tbody>\n",
              "\t<tr><th scope=row>1</th><td>John F Kennedy Intl</td><td>JFK</td><td>Los Angeles Intl                  </td><td>LAX</td><td>11262</td></tr>\n",
              "\t<tr><th scope=row>2</th><td>La Guardia         </td><td>LGA</td><td>Hartsfield Jackson Atlanta Intl   </td><td>ATL</td><td>10263</td></tr>\n",
              "\t<tr><th scope=row>3</th><td>La Guardia         </td><td>LGA</td><td>Chicago Ohare Intl                </td><td>ORD</td><td> 8857</td></tr>\n",
              "\t<tr><th scope=row>4</th><td>John F Kennedy Intl</td><td>JFK</td><td>San Francisco Intl                </td><td>SFO</td><td> 8204</td></tr>\n",
              "\t<tr><th scope=row>5</th><td>La Guardia         </td><td>LGA</td><td>Charlotte Douglas Intl            </td><td>CLT</td><td> 6168</td></tr>\n",
              "\t<tr><th scope=row>6</th><td>Newark Liberty Intl</td><td>EWR</td><td>Chicago Ohare Intl                </td><td>ORD</td><td> 6100</td></tr>\n",
              "\t<tr><th scope=row>7</th><td>John F Kennedy Intl</td><td>JFK</td><td>General Edward Lawrence Logan Intl</td><td>BOS</td><td> 5898</td></tr>\n",
              "\t<tr><th scope=row>8</th><td>La Guardia         </td><td>LGA</td><td>Miami Intl                        </td><td>MIA</td><td> 5781</td></tr>\n",
              "\t<tr><th scope=row>9</th><td>John F Kennedy Intl</td><td>JFK</td><td>Orlando Intl                      </td><td>MCO</td><td> 5464</td></tr>\n",
              "\t<tr><th scope=row>10</th><td>Newark Liberty Intl</td><td>EWR</td><td>General Edward Lawrence Logan Intl</td><td>BOS</td><td> 5327</td></tr>\n",
              "</tbody>\n",
              "</table>\n"
            ],
            "text/markdown": "\nA data.frame: 10 × 5\n\n| <!--/--> | name_origin &lt;chr&gt; | origin &lt;chr&gt; | name_dest &lt;chr&gt; | dest &lt;chr&gt; | n &lt;int&gt; |\n|---|---|---|---|---|---|\n| 1 | John F Kennedy Intl | JFK | Los Angeles Intl                   | LAX | 11262 |\n| 2 | La Guardia          | LGA | Hartsfield Jackson Atlanta Intl    | ATL | 10263 |\n| 3 | La Guardia          | LGA | Chicago Ohare Intl                 | ORD |  8857 |\n| 4 | John F Kennedy Intl | JFK | San Francisco Intl                 | SFO |  8204 |\n| 5 | La Guardia          | LGA | Charlotte Douglas Intl             | CLT |  6168 |\n| 6 | Newark Liberty Intl | EWR | Chicago Ohare Intl                 | ORD |  6100 |\n| 7 | John F Kennedy Intl | JFK | General Edward Lawrence Logan Intl | BOS |  5898 |\n| 8 | La Guardia          | LGA | Miami Intl                         | MIA |  5781 |\n| 9 | John F Kennedy Intl | JFK | Orlando Intl                       | MCO |  5464 |\n| 10 | Newark Liberty Intl | EWR | General Edward Lawrence Logan Intl | BOS |  5327 |\n\n",
            "text/latex": "A data.frame: 10 × 5\n\\begin{tabular}{r|lllll}\n  & name\\_origin & origin & name\\_dest & dest & n\\\\\n  & <chr> & <chr> & <chr> & <chr> & <int>\\\\\n\\hline\n\t1 & John F Kennedy Intl & JFK & Los Angeles Intl                   & LAX & 11262\\\\\n\t2 & La Guardia          & LGA & Hartsfield Jackson Atlanta Intl    & ATL & 10263\\\\\n\t3 & La Guardia          & LGA & Chicago Ohare Intl                 & ORD &  8857\\\\\n\t4 & John F Kennedy Intl & JFK & San Francisco Intl                 & SFO &  8204\\\\\n\t5 & La Guardia          & LGA & Charlotte Douglas Intl             & CLT &  6168\\\\\n\t6 & Newark Liberty Intl & EWR & Chicago Ohare Intl                 & ORD &  6100\\\\\n\t7 & John F Kennedy Intl & JFK & General Edward Lawrence Logan Intl & BOS &  5898\\\\\n\t8 & La Guardia          & LGA & Miami Intl                         & MIA &  5781\\\\\n\t9 & John F Kennedy Intl & JFK & Orlando Intl                       & MCO &  5464\\\\\n\t10 & Newark Liberty Intl & EWR & General Edward Lawrence Logan Intl & BOS &  5327\\\\\n\\end{tabular}\n",
            "text/plain": [
              "   name_origin         origin name_dest                          dest n    \n",
              "1  John F Kennedy Intl JFK    Los Angeles Intl                   LAX  11262\n",
              "2  La Guardia          LGA    Hartsfield Jackson Atlanta Intl    ATL  10263\n",
              "3  La Guardia          LGA    Chicago Ohare Intl                 ORD   8857\n",
              "4  John F Kennedy Intl JFK    San Francisco Intl                 SFO   8204\n",
              "5  La Guardia          LGA    Charlotte Douglas Intl             CLT   6168\n",
              "6  Newark Liberty Intl EWR    Chicago Ohare Intl                 ORD   6100\n",
              "7  John F Kennedy Intl JFK    General Edward Lawrence Logan Intl BOS   5898\n",
              "8  La Guardia          LGA    Miami Intl                         MIA   5781\n",
              "9  John F Kennedy Intl JFK    Orlando Intl                       MCO   5464\n",
              "10 Newark Liberty Intl EWR    General Edward Lawrence Logan Intl BOS   5327"
            ]
          },
          "metadata": {}
        }
      ]
    },
    {
      "cell_type": "markdown",
      "source": [
        "### 05 Top 5 airlines and destinations with later than 60-minute arrival"
      ],
      "metadata": {
        "id": "yNHm72qEO1Dx"
      }
    },
    {
      "cell_type": "code",
      "source": [
        "late_arr_flights <- flights %>% \n",
        "    mutate(late = arr_delay > 60)\n",
        "\n",
        "df5 <- late_arr_flights %>%\n",
        "    select(arr_time, sched_arr_time, arr_delay, carrier, origin, dest, late) %>%\n",
        "    filter(late == TRUE) %>%\n",
        "    count(carrier, dest) %>%\n",
        "    rename(arr_delay_counts = n) %>%\n",
        "    arrange(desc(arr_delay_counts)) %>%\n",
        "    left_join(airlines %>%\n",
        "        rename(carrier_name = name), by = \"carrier\") %>%\n",
        "    left_join(airports %>%\n",
        "        select(faa, name) %>%\n",
        "        rename(dest_airport_name = name), by = c(\"dest\" = \"faa\")) %>%\n",
        "    select(carrier_name, dest_airport_name, arr_delay_counts)\n",
        "\n",
        "df5 %>% head()\n",
        "cat(\"\\n\")\n",
        "glue::glue(\"The airline which had the most of arrival delay flights is {df5[1, 1]} with {df5[1, 3]} flights delayed\")"
      ],
      "metadata": {
        "colab": {
          "base_uri": "https://localhost:8080/",
          "height": 321
        },
        "id": "keZv2WRBO0hy",
        "outputId": "03725b49-e169-47f4-91ad-efc5e1e5638c"
      },
      "execution_count": null,
      "outputs": [
        {
          "output_type": "display_data",
          "data": {
            "text/html": [
              "<table class=\"dataframe\">\n",
              "<caption>A data.frame: 6 × 3</caption>\n",
              "<thead>\n",
              "\t<tr><th></th><th scope=col>carrier_name</th><th scope=col>dest_airport_name</th><th scope=col>arr_delay_counts</th></tr>\n",
              "\t<tr><th></th><th scope=col>&lt;chr&gt;</th><th scope=col>&lt;chr&gt;</th><th scope=col>&lt;int&gt;</th></tr>\n",
              "</thead>\n",
              "<tbody>\n",
              "\t<tr><th scope=row>1</th><td>Delta Air Lines Inc.    </td><td>Hartsfield Jackson Atlanta Intl</td><td>723</td></tr>\n",
              "\t<tr><th scope=row>2</th><td>JetBlue Airways         </td><td>Fort Lauderdale Hollywood Intl </td><td>646</td></tr>\n",
              "\t<tr><th scope=row>3</th><td>JetBlue Airways         </td><td>Orlando Intl                   </td><td>633</td></tr>\n",
              "\t<tr><th scope=row>4</th><td>United Air Lines Inc.   </td><td>Chicago Ohare Intl             </td><td>597</td></tr>\n",
              "\t<tr><th scope=row>5</th><td>United Air Lines Inc.   </td><td>San Francisco Intl             </td><td>492</td></tr>\n",
              "\t<tr><th scope=row>6</th><td>ExpressJet Airlines Inc.</td><td>Washington Dulles Intl         </td><td>468</td></tr>\n",
              "</tbody>\n",
              "</table>\n"
            ],
            "text/markdown": "\nA data.frame: 6 × 3\n\n| <!--/--> | carrier_name &lt;chr&gt; | dest_airport_name &lt;chr&gt; | arr_delay_counts &lt;int&gt; |\n|---|---|---|---|\n| 1 | Delta Air Lines Inc.     | Hartsfield Jackson Atlanta Intl | 723 |\n| 2 | JetBlue Airways          | Fort Lauderdale Hollywood Intl  | 646 |\n| 3 | JetBlue Airways          | Orlando Intl                    | 633 |\n| 4 | United Air Lines Inc.    | Chicago Ohare Intl              | 597 |\n| 5 | United Air Lines Inc.    | San Francisco Intl              | 492 |\n| 6 | ExpressJet Airlines Inc. | Washington Dulles Intl          | 468 |\n\n",
            "text/latex": "A data.frame: 6 × 3\n\\begin{tabular}{r|lll}\n  & carrier\\_name & dest\\_airport\\_name & arr\\_delay\\_counts\\\\\n  & <chr> & <chr> & <int>\\\\\n\\hline\n\t1 & Delta Air Lines Inc.     & Hartsfield Jackson Atlanta Intl & 723\\\\\n\t2 & JetBlue Airways          & Fort Lauderdale Hollywood Intl  & 646\\\\\n\t3 & JetBlue Airways          & Orlando Intl                    & 633\\\\\n\t4 & United Air Lines Inc.    & Chicago Ohare Intl              & 597\\\\\n\t5 & United Air Lines Inc.    & San Francisco Intl              & 492\\\\\n\t6 & ExpressJet Airlines Inc. & Washington Dulles Intl          & 468\\\\\n\\end{tabular}\n",
            "text/plain": [
              "  carrier_name             dest_airport_name               arr_delay_counts\n",
              "1 Delta Air Lines Inc.     Hartsfield Jackson Atlanta Intl 723             \n",
              "2 JetBlue Airways          Fort Lauderdale Hollywood Intl  646             \n",
              "3 JetBlue Airways          Orlando Intl                    633             \n",
              "4 United Air Lines Inc.    Chicago Ohare Intl              597             \n",
              "5 United Air Lines Inc.    San Francisco Intl              492             \n",
              "6 ExpressJet Airlines Inc. Washington Dulles Intl          468             "
            ]
          },
          "metadata": {}
        },
        {
          "output_type": "stream",
          "name": "stdout",
          "text": [
            "\n"
          ]
        },
        {
          "output_type": "display_data",
          "data": {
            "text/html": [
              "'The airline which had the most of arrival delay flights is Delta Air Lines Inc. with 723 flights delayed'"
            ],
            "text/markdown": "'The airline which had the most of arrival delay flights is Delta Air Lines Inc. with 723 flights delayed'",
            "text/latex": "'The airline which had the most of arrival delay flights is Delta Air Lines Inc. with 723 flights delayed'",
            "text/plain": [
              "The airline which had the most of arrival delay flights is Delta Air Lines Inc. with 723 flights delayed"
            ]
          },
          "metadata": {}
        }
      ]
    },
    {
      "cell_type": "markdown",
      "source": [
        "# PosgreSQL Database Connection"
      ],
      "metadata": {
        "id": "16FB5gvyCxEc"
      }
    },
    {
      "cell_type": "code",
      "execution_count": null,
      "metadata": {
        "colab": {
          "base_uri": "https://localhost:8080/"
        },
        "id": "qnlomG0Nalbd",
        "outputId": "f491aa00-ec1a-485c-e6ff-761684283e1e"
      },
      "outputs": [
        {
          "output_type": "stream",
          "name": "stderr",
          "text": [
            "Installing package into ‘/usr/local/lib/R/site-library’\n",
            "(as ‘lib’ is unspecified)\n",
            "\n"
          ]
        }
      ],
      "source": [
        "install.packages(\"RPostgreSQL\")"
      ]
    },
    {
      "cell_type": "code",
      "source": [
        "library(DBI)\n",
        "library(RPostgreSQL)\n",
        "library(dplyr)"
      ],
      "metadata": {
        "id": "hH1jbZpvaxRM"
      },
      "execution_count": null,
      "outputs": []
    },
    {
      "cell_type": "code",
      "source": [
        "con <- dbConnect(\n",
        "  PostgreSQL(),\n",
        "  host = \"manny.db.elephantsql.com\",\n",
        "  dbname = \"qcjrwjra\",\n",
        "  port = 5432,\n",
        "  user = \"qcjrwjra\",\n",
        "  password = \"SfohFEvRbPlaXs9fOqQo71PR0rJOiT-0\"\n",
        ")\n",
        "\n",
        "con"
      ],
      "metadata": {
        "colab": {
          "base_uri": "https://localhost:8080/",
          "height": 34
        },
        "id": "AEdoCA-Sa6zd",
        "outputId": "3433621e-ad9d-4af0-e47e-23805a8d1e67"
      },
      "execution_count": null,
      "outputs": [
        {
          "output_type": "display_data",
          "data": {
            "text/plain": [
              "<PostgreSQLConnection>"
            ]
          },
          "metadata": {}
        }
      ]
    },
    {
      "cell_type": "code",
      "source": [
        "dbWriteTable(con, \"top_airline_q3\", df2, row.names=FALSE)\n",
        "dbWriteTable(con, \"top_plane_maker\", df3, row.names=FALSE)\n",
        "dbWriteTable(con, \"popular_route\", df4, row.names=FALSE)\n",
        "dbWriteTable(con, \"top_arr_delay\", df5, row.names=FALSE)"
      ],
      "metadata": {
        "id": "Pm5rStmfTXdW"
      },
      "execution_count": null,
      "outputs": []
    },
    {
      "cell_type": "code",
      "source": [
        "dbListTables(con)"
      ],
      "metadata": {
        "colab": {
          "base_uri": "https://localhost:8080/",
          "height": 34
        },
        "id": "U0QIlUZ_TB0V",
        "outputId": "376e964a-2e27-4ebe-a8f6-4eea7f07635c"
      },
      "execution_count": null,
      "outputs": [
        {
          "output_type": "display_data",
          "data": {
            "text/html": [
              "<style>\n",
              ".list-inline {list-style: none; margin:0; padding: 0}\n",
              ".list-inline>li {display: inline-block}\n",
              ".list-inline>li:not(:last-child)::after {content: \"\\00b7\"; padding: 0 .5ex}\n",
              "</style>\n",
              "<ol class=list-inline><li>'students'</li><li>'top_airline_q3'</li><li>'top_plane_maker'</li><li>'popular_route'</li><li>'top_arr_delay'</li></ol>\n"
            ],
            "text/markdown": "1. 'students'\n2. 'top_airline_q3'\n3. 'top_plane_maker'\n4. 'popular_route'\n5. 'top_arr_delay'\n\n\n",
            "text/latex": "\\begin{enumerate*}\n\\item 'students'\n\\item 'top\\_airline\\_q3'\n\\item 'top\\_plane\\_maker'\n\\item 'popular\\_route'\n\\item 'top\\_arr\\_delay'\n\\end{enumerate*}\n",
            "text/plain": [
              "[1] \"students\"        \"top_airline_q3\"  \"top_plane_maker\" \"popular_route\"  \n",
              "[5] \"top_arr_delay\"  "
            ]
          },
          "metadata": {}
        }
      ]
    },
    {
      "cell_type": "code",
      "source": [
        "select Name, ROW_NUMBER() OVER (ORDER BY Name DESC) AS ID,\n",
        "Age, Gender"
      ],
      "metadata": {
        "id": "i-JefVj2VzUl"
      },
      "execution_count": null,
      "outputs": []
    },
    {
      "cell_type": "code",
      "source": [
        "glue::glue(\"Airlines operated in Quarter 3 of 2013 (July - September, 2013)\")\n",
        "dbGetQuery(con, \"SELECT * FROM top_airline_q3\n",
        "                 LIMIT 5\")\n",
        "cat(\"\\n\")\n",
        "\n",
        "glue::glue(\"The most frequently used manufacturer airplane in 2013, describing the aircraft manufacturer and model\")\n",
        "dbGetQuery(con, \"SELECT * FROM top_plane_maker\n",
        "                 LIMIT 5\")\n",
        "cat(\"\\n\")\n",
        "\n",
        "glue::glue(\"Ranking of demand route with name of origin and destination airport\")                 \n",
        "rank <- dbGetQuery(con, \"SELECT ROW_NUMBER() OVER () AS rank, *\n",
        "                 FROM popular_route\n",
        "                 LIMIT 10\")\n",
        "cat(\"\\n\")\n",
        "\n",
        "glue::glue(\"Airlines and destinations with later than 60-minute arrival\")\n",
        "dbGetQuery(con, \"SELECT * FROM top_arr_delay\n",
        "                 LIMIT 5\")"
      ],
      "metadata": {
        "colab": {
          "base_uri": "https://localhost:8080/",
          "height": 851
        },
        "id": "cKUQ6QrSTYjG",
        "outputId": "70a0cf2e-2fcf-4ab2-bb63-5a846a3013ac"
      },
      "execution_count": null,
      "outputs": [
        {
          "output_type": "display_data",
          "data": {
            "text/html": [
              "'Airlines operated in Quarter 3 of 2013 (July - September, 2013)'"
            ],
            "text/markdown": "'Airlines operated in Quarter 3 of 2013 (July - September, 2013)'",
            "text/latex": "'Airlines operated in Quarter 3 of 2013 (July - September, 2013)'",
            "text/plain": [
              "Airlines operated in Quarter 3 of 2013 (July - September, 2013)"
            ]
          },
          "metadata": {}
        },
        {
          "output_type": "display_data",
          "data": {
            "text/html": [
              "<table class=\"dataframe\">\n",
              "<caption>A data.frame: 5 × 3</caption>\n",
              "<thead>\n",
              "\t<tr><th></th><th scope=col>carrier</th><th scope=col>carrier_name</th><th scope=col>operate_counts</th></tr>\n",
              "\t<tr><th></th><th scope=col>&lt;chr&gt;</th><th scope=col>&lt;chr&gt;</th><th scope=col>&lt;int&gt;</th></tr>\n",
              "</thead>\n",
              "<tbody>\n",
              "\t<tr><th scope=row>1</th><td>UA</td><td>United Air Lines Inc.   </td><td>14692</td></tr>\n",
              "\t<tr><th scope=row>2</th><td>B6</td><td>JetBlue Airways         </td><td>14113</td></tr>\n",
              "\t<tr><th scope=row>3</th><td>EV</td><td>ExpressJet Airlines Inc.</td><td>13188</td></tr>\n",
              "\t<tr><th scope=row>4</th><td>DL</td><td>Delta Air Lines Inc.    </td><td>12356</td></tr>\n",
              "\t<tr><th scope=row>5</th><td>AA</td><td>American Airlines Inc.  </td><td> 8156</td></tr>\n",
              "</tbody>\n",
              "</table>\n"
            ],
            "text/markdown": "\nA data.frame: 5 × 3\n\n| <!--/--> | carrier &lt;chr&gt; | carrier_name &lt;chr&gt; | operate_counts &lt;int&gt; |\n|---|---|---|---|\n| 1 | UA | United Air Lines Inc.    | 14692 |\n| 2 | B6 | JetBlue Airways          | 14113 |\n| 3 | EV | ExpressJet Airlines Inc. | 13188 |\n| 4 | DL | Delta Air Lines Inc.     | 12356 |\n| 5 | AA | American Airlines Inc.   |  8156 |\n\n",
            "text/latex": "A data.frame: 5 × 3\n\\begin{tabular}{r|lll}\n  & carrier & carrier\\_name & operate\\_counts\\\\\n  & <chr> & <chr> & <int>\\\\\n\\hline\n\t1 & UA & United Air Lines Inc.    & 14692\\\\\n\t2 & B6 & JetBlue Airways          & 14113\\\\\n\t3 & EV & ExpressJet Airlines Inc. & 13188\\\\\n\t4 & DL & Delta Air Lines Inc.     & 12356\\\\\n\t5 & AA & American Airlines Inc.   &  8156\\\\\n\\end{tabular}\n",
            "text/plain": [
              "  carrier carrier_name             operate_counts\n",
              "1 UA      United Air Lines Inc.    14692         \n",
              "2 B6      JetBlue Airways          14113         \n",
              "3 EV      ExpressJet Airlines Inc. 13188         \n",
              "4 DL      Delta Air Lines Inc.     12356         \n",
              "5 AA      American Airlines Inc.    8156         "
            ]
          },
          "metadata": {}
        },
        {
          "output_type": "stream",
          "name": "stdout",
          "text": [
            "\n"
          ]
        },
        {
          "output_type": "display_data",
          "data": {
            "text/html": [
              "'The most frequently used manufacturer airplane in 2013, describing the aircraft manufacturer and model'"
            ],
            "text/markdown": "'The most frequently used manufacturer airplane in 2013, describing the aircraft manufacturer and model'",
            "text/latex": "'The most frequently used manufacturer airplane in 2013, describing the aircraft manufacturer and model'",
            "text/plain": [
              "The most frequently used manufacturer airplane in 2013, describing the aircraft manufacturer and model"
            ]
          },
          "metadata": {}
        },
        {
          "output_type": "display_data",
          "data": {
            "text/html": [
              "<table class=\"dataframe\">\n",
              "<caption>A data.frame: 5 × 3</caption>\n",
              "<thead>\n",
              "\t<tr><th></th><th scope=col>model</th><th scope=col>manufacturer</th><th scope=col>operated_count</th></tr>\n",
              "\t<tr><th></th><th scope=col>&lt;chr&gt;</th><th scope=col>&lt;chr&gt;</th><th scope=col>&lt;int&gt;</th></tr>\n",
              "</thead>\n",
              "<tbody>\n",
              "\t<tr><th scope=row>1</th><td>A320-232       </td><td>AIRBUS          </td><td>30972</td></tr>\n",
              "\t<tr><th scope=row>2</th><td>EMB-145LR      </td><td>EMBRAER         </td><td>26475</td></tr>\n",
              "\t<tr><th scope=row>3</th><td>ERJ 190-100 IGW</td><td>EMBRAER         </td><td>23481</td></tr>\n",
              "\t<tr><th scope=row>4</th><td>A320-232       </td><td>AIRBUS INDUSTRIE</td><td>14465</td></tr>\n",
              "\t<tr><th scope=row>5</th><td>737-824        </td><td>BOEING          </td><td>13773</td></tr>\n",
              "</tbody>\n",
              "</table>\n"
            ],
            "text/markdown": "\nA data.frame: 5 × 3\n\n| <!--/--> | model &lt;chr&gt; | manufacturer &lt;chr&gt; | operated_count &lt;int&gt; |\n|---|---|---|---|\n| 1 | A320-232        | AIRBUS           | 30972 |\n| 2 | EMB-145LR       | EMBRAER          | 26475 |\n| 3 | ERJ 190-100 IGW | EMBRAER          | 23481 |\n| 4 | A320-232        | AIRBUS INDUSTRIE | 14465 |\n| 5 | 737-824         | BOEING           | 13773 |\n\n",
            "text/latex": "A data.frame: 5 × 3\n\\begin{tabular}{r|lll}\n  & model & manufacturer & operated\\_count\\\\\n  & <chr> & <chr> & <int>\\\\\n\\hline\n\t1 & A320-232        & AIRBUS           & 30972\\\\\n\t2 & EMB-145LR       & EMBRAER          & 26475\\\\\n\t3 & ERJ 190-100 IGW & EMBRAER          & 23481\\\\\n\t4 & A320-232        & AIRBUS INDUSTRIE & 14465\\\\\n\t5 & 737-824         & BOEING           & 13773\\\\\n\\end{tabular}\n",
            "text/plain": [
              "  model           manufacturer     operated_count\n",
              "1 A320-232        AIRBUS           30972         \n",
              "2 EMB-145LR       EMBRAER          26475         \n",
              "3 ERJ 190-100 IGW EMBRAER          23481         \n",
              "4 A320-232        AIRBUS INDUSTRIE 14465         \n",
              "5 737-824         BOEING           13773         "
            ]
          },
          "metadata": {}
        },
        {
          "output_type": "stream",
          "name": "stdout",
          "text": [
            "\n"
          ]
        },
        {
          "output_type": "display_data",
          "data": {
            "text/html": [
              "'Ranking of demand route with name of origin and destination airport'"
            ],
            "text/markdown": "'Ranking of demand route with name of origin and destination airport'",
            "text/latex": "'Ranking of demand route with name of origin and destination airport'",
            "text/plain": [
              "Ranking of demand route with name of origin and destination airport"
            ]
          },
          "metadata": {}
        },
        {
          "output_type": "stream",
          "name": "stdout",
          "text": [
            "\n"
          ]
        },
        {
          "output_type": "display_data",
          "data": {
            "text/html": [
              "'Airlines and destinations with later than 60-minute arrival'"
            ],
            "text/markdown": "'Airlines and destinations with later than 60-minute arrival'",
            "text/latex": "'Airlines and destinations with later than 60-minute arrival'",
            "text/plain": [
              "Airlines and destinations with later than 60-minute arrival"
            ]
          },
          "metadata": {}
        },
        {
          "output_type": "display_data",
          "data": {
            "text/html": [
              "<table class=\"dataframe\">\n",
              "<caption>A data.frame: 5 × 3</caption>\n",
              "<thead>\n",
              "\t<tr><th></th><th scope=col>carrier_name</th><th scope=col>dest_airport_name</th><th scope=col>arr_delay_counts</th></tr>\n",
              "\t<tr><th></th><th scope=col>&lt;chr&gt;</th><th scope=col>&lt;chr&gt;</th><th scope=col>&lt;int&gt;</th></tr>\n",
              "</thead>\n",
              "<tbody>\n",
              "\t<tr><th scope=row>1</th><td>Delta Air Lines Inc. </td><td>Hartsfield Jackson Atlanta Intl</td><td>723</td></tr>\n",
              "\t<tr><th scope=row>2</th><td>JetBlue Airways      </td><td>Fort Lauderdale Hollywood Intl </td><td>646</td></tr>\n",
              "\t<tr><th scope=row>3</th><td>JetBlue Airways      </td><td>Orlando Intl                   </td><td>633</td></tr>\n",
              "\t<tr><th scope=row>4</th><td>United Air Lines Inc.</td><td>Chicago Ohare Intl             </td><td>597</td></tr>\n",
              "\t<tr><th scope=row>5</th><td>United Air Lines Inc.</td><td>San Francisco Intl             </td><td>492</td></tr>\n",
              "</tbody>\n",
              "</table>\n"
            ],
            "text/markdown": "\nA data.frame: 5 × 3\n\n| <!--/--> | carrier_name &lt;chr&gt; | dest_airport_name &lt;chr&gt; | arr_delay_counts &lt;int&gt; |\n|---|---|---|---|\n| 1 | Delta Air Lines Inc.  | Hartsfield Jackson Atlanta Intl | 723 |\n| 2 | JetBlue Airways       | Fort Lauderdale Hollywood Intl  | 646 |\n| 3 | JetBlue Airways       | Orlando Intl                    | 633 |\n| 4 | United Air Lines Inc. | Chicago Ohare Intl              | 597 |\n| 5 | United Air Lines Inc. | San Francisco Intl              | 492 |\n\n",
            "text/latex": "A data.frame: 5 × 3\n\\begin{tabular}{r|lll}\n  & carrier\\_name & dest\\_airport\\_name & arr\\_delay\\_counts\\\\\n  & <chr> & <chr> & <int>\\\\\n\\hline\n\t1 & Delta Air Lines Inc.  & Hartsfield Jackson Atlanta Intl & 723\\\\\n\t2 & JetBlue Airways       & Fort Lauderdale Hollywood Intl  & 646\\\\\n\t3 & JetBlue Airways       & Orlando Intl                    & 633\\\\\n\t4 & United Air Lines Inc. & Chicago Ohare Intl              & 597\\\\\n\t5 & United Air Lines Inc. & San Francisco Intl              & 492\\\\\n\\end{tabular}\n",
            "text/plain": [
              "  carrier_name          dest_airport_name               arr_delay_counts\n",
              "1 Delta Air Lines Inc.  Hartsfield Jackson Atlanta Intl 723             \n",
              "2 JetBlue Airways       Fort Lauderdale Hollywood Intl  646             \n",
              "3 JetBlue Airways       Orlando Intl                    633             \n",
              "4 United Air Lines Inc. Chicago Ohare Intl              597             \n",
              "5 United Air Lines Inc. San Francisco Intl              492             "
            ]
          },
          "metadata": {}
        }
      ]
    },
    {
      "cell_type": "code",
      "source": [
        "#CLOSE connection\n",
        "dbDisconnect(con)"
      ],
      "metadata": {
        "colab": {
          "base_uri": "https://localhost:8080/",
          "height": 34
        },
        "id": "9ozcKcjgTK88",
        "outputId": "2b0d2f76-aadb-4ac5-c7a7-73c8f03b9c61"
      },
      "execution_count": null,
      "outputs": [
        {
          "output_type": "display_data",
          "data": {
            "text/html": [
              "TRUE"
            ],
            "text/markdown": "TRUE",
            "text/latex": "TRUE",
            "text/plain": [
              "[1] TRUE"
            ]
          },
          "metadata": {}
        }
      ]
    }
  ]
}