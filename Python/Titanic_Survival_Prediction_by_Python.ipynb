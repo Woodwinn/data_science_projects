{
  "nbformat": 4,
  "nbformat_minor": 0,
  "metadata": {
    "colab": {
      "provenance": []
    },
    "kernelspec": {
      "name": "python3",
      "display_name": "Python 3"
    },
    "language_info": {
      "name": "python"
    }
  },
  "cells": [
    {
      "cell_type": "markdown",
      "source": [
        "# Titanic Suvival Prediction\n",
        "### by Logistic Regrssion using PySpark"
      ],
      "metadata": {
        "id": "ngDn1mu9JE9z"
      }
    },
    {
      "cell_type": "markdown",
      "source": [
        "## Prepare data and enviranment"
      ],
      "metadata": {
        "id": "4FBNayw_K_ZG"
      }
    },
    {
      "cell_type": "code",
      "execution_count": null,
      "metadata": {
        "id": "KNRF4wZlI4QX"
      },
      "outputs": [],
      "source": [
        "# Download Java and Spark\n",
        "\n",
        "!apt-get install openjdk-8-jdk-headless -qq > /dev/null\n",
        "!wget -q http://archive.apache.org/dist/spark/spark-3.2.1/spark-3.2.1-bin-hadoop3.2.tgz\n",
        "!tar xf spark-3.2.1-bin-hadoop3.2.tgz\n",
        "!pip install -q findspark"
      ]
    },
    {
      "cell_type": "code",
      "source": [
        "# Set up the paths\n",
        "\n",
        "import os\n",
        "os.environ[\"JAVA_HOME\"] = \"/usr/lib/jvm/java-8-openjdk-amd64\"\n",
        "os.environ[\"SPARK_HOME\"] = \"/content/spark-3.2.1-bin-hadoop3.2\""
      ],
      "metadata": {
        "id": "i1yUm_DjJOLn"
      },
      "execution_count": null,
      "outputs": []
    },
    {
      "cell_type": "code",
      "source": [
        "# Create a Spark session\n",
        "\n",
        "import findspark\n",
        "findspark.init()\n",
        "from pyspark.sql import SparkSession\n",
        "spark = SparkSession.builder.master(\"local[*]\").getOrCreate()\n",
        "spark.conf.set(\"spark.sql.repl.eagerEval.enabled\", True) # Property used to format output tables better\n",
        "spark.conf.set(\"spark.sql.caseSensitive\", True) # Avoid error \"Found duplicate column(s) in the data schema\"\n",
        "spark"
      ],
      "metadata": {
        "colab": {
          "base_uri": "https://localhost:8080/",
          "height": 219
        },
        "id": "PelGOg4bJOeo",
        "outputId": "3fcfef80-2822-4462-a8de-812794465d03"
      },
      "execution_count": null,
      "outputs": [
        {
          "output_type": "execute_result",
          "data": {
            "text/plain": [
              "<pyspark.sql.session.SparkSession at 0x7f0c482289d0>"
            ],
            "text/html": [
              "\n",
              "            <div>\n",
              "                <p><b>SparkSession - in-memory</b></p>\n",
              "                \n",
              "        <div>\n",
              "            <p><b>SparkContext</b></p>\n",
              "\n",
              "            <p><a href=\"http://de78165aa1ee:4040\">Spark UI</a></p>\n",
              "\n",
              "            <dl>\n",
              "              <dt>Version</dt>\n",
              "                <dd><code>v3.2.1</code></dd>\n",
              "              <dt>Master</dt>\n",
              "                <dd><code>local[*]</code></dd>\n",
              "              <dt>AppName</dt>\n",
              "                <dd><code>pyspark-shell</code></dd>\n",
              "            </dl>\n",
              "        </div>\n",
              "        \n",
              "            </div>\n",
              "        "
            ]
          },
          "metadata": {},
          "execution_count": 21
        }
      ]
    },
    {
      "cell_type": "code",
      "source": [
        "# Load the data into the system\n",
        "\n",
        "titanic_train = spark.read.csv('titanic_train.csv', header = True, inferSchema=True)\n",
        "titanic_train.show()"
      ],
      "metadata": {
        "colab": {
          "base_uri": "https://localhost:8080/"
        },
        "id": "yNp9AuWMK6lL",
        "outputId": "31763b13-9643-40b2-8960-c825b382e33a"
      },
      "execution_count": null,
      "outputs": [
        {
          "output_type": "stream",
          "name": "stdout",
          "text": [
            "+-----------+--------+------+--------------------+------+----+-----+-----+----------------+-------+-----+--------+\n",
            "|PassengerId|Survived|Pclass|                Name|   Sex| Age|SibSp|Parch|          Ticket|   Fare|Cabin|Embarked|\n",
            "+-----------+--------+------+--------------------+------+----+-----+-----+----------------+-------+-----+--------+\n",
            "|          1|       0|     3|Braund, Mr. Owen ...|  male|22.0|    1|    0|       A/5 21171|   7.25| null|       S|\n",
            "|          2|       1|     1|Cumings, Mrs. Joh...|female|38.0|    1|    0|        PC 17599|71.2833|  C85|       C|\n",
            "|          3|       1|     3|Heikkinen, Miss. ...|female|26.0|    0|    0|STON/O2. 3101282|  7.925| null|       S|\n",
            "|          4|       1|     1|Futrelle, Mrs. Ja...|female|35.0|    1|    0|          113803|   53.1| C123|       S|\n",
            "|          5|       0|     3|Allen, Mr. Willia...|  male|35.0|    0|    0|          373450|   8.05| null|       S|\n",
            "|          6|       0|     3|    Moran, Mr. James|  male|null|    0|    0|          330877| 8.4583| null|       Q|\n",
            "|          7|       0|     1|McCarthy, Mr. Tim...|  male|54.0|    0|    0|           17463|51.8625|  E46|       S|\n",
            "|          8|       0|     3|Palsson, Master. ...|  male| 2.0|    3|    1|          349909| 21.075| null|       S|\n",
            "|          9|       1|     3|Johnson, Mrs. Osc...|female|27.0|    0|    2|          347742|11.1333| null|       S|\n",
            "|         10|       1|     2|Nasser, Mrs. Nich...|female|14.0|    1|    0|          237736|30.0708| null|       C|\n",
            "|         11|       1|     3|Sandstrom, Miss. ...|female| 4.0|    1|    1|         PP 9549|   16.7|   G6|       S|\n",
            "|         12|       1|     1|Bonnell, Miss. El...|female|58.0|    0|    0|          113783|  26.55| C103|       S|\n",
            "|         13|       0|     3|Saundercock, Mr. ...|  male|20.0|    0|    0|       A/5. 2151|   8.05| null|       S|\n",
            "|         14|       0|     3|Andersson, Mr. An...|  male|39.0|    1|    5|          347082| 31.275| null|       S|\n",
            "|         15|       0|     3|Vestrom, Miss. Hu...|female|14.0|    0|    0|          350406| 7.8542| null|       S|\n",
            "|         16|       1|     2|Hewlett, Mrs. (Ma...|female|55.0|    0|    0|          248706|   16.0| null|       S|\n",
            "|         17|       0|     3|Rice, Master. Eugene|  male| 2.0|    4|    1|          382652| 29.125| null|       Q|\n",
            "|         18|       1|     2|Williams, Mr. Cha...|  male|null|    0|    0|          244373|   13.0| null|       S|\n",
            "|         19|       0|     3|Vander Planke, Mr...|female|31.0|    1|    0|          345763|   18.0| null|       S|\n",
            "|         20|       1|     3|Masselmani, Mrs. ...|female|null|    0|    0|            2649|  7.225| null|       C|\n",
            "+-----------+--------+------+--------------------+------+----+-----+-----+----------------+-------+-----+--------+\n",
            "only showing top 20 rows\n",
            "\n"
          ]
        }
      ]
    },
    {
      "cell_type": "code",
      "source": [
        "# Explore the target variable \"Survived\"\n",
        "print(\"Count the number of surviver\")\n",
        "titanic_train.groupBy(\"Survived\").count().show()\n",
        "\n",
        "print(\"Correlation between gender and number of suviver\")\n",
        "# Explore correlation\n",
        "titanic_train.groupBy(\"Sex\",\"Survived\").count().orderBy(\"Sex\",\"Survived\").show()\n",
        "\n",
        "print(\"Correlation between Passenger class and number of suviver\")\n",
        "# Explore another correlation\n",
        "titanic_train.groupBy(\"Pclass\",\"Survived\").count().orderBy(\"Pclass\",\"Survived\").show()"
      ],
      "metadata": {
        "colab": {
          "base_uri": "https://localhost:8080/"
        },
        "id": "Dsnye8nHMYrX",
        "outputId": "77438c49-b2fe-408b-b348-86b4c852c9d3"
      },
      "execution_count": null,
      "outputs": [
        {
          "output_type": "stream",
          "name": "stdout",
          "text": [
            "Count the number of surviver\n",
            "+--------+-----+\n",
            "|Survived|count|\n",
            "+--------+-----+\n",
            "|       1|  342|\n",
            "|       0|  549|\n",
            "+--------+-----+\n",
            "\n",
            "Correlation between gender and number of suviver\n",
            "+------+--------+-----+\n",
            "|   Sex|Survived|count|\n",
            "+------+--------+-----+\n",
            "|female|       0|   81|\n",
            "|female|       1|  233|\n",
            "|  male|       0|  468|\n",
            "|  male|       1|  109|\n",
            "+------+--------+-----+\n",
            "\n",
            "Correlation between Passenger class and number of suviver\n",
            "+------+--------+-----+\n",
            "|Pclass|Survived|count|\n",
            "+------+--------+-----+\n",
            "|     1|       0|   80|\n",
            "|     1|       1|  136|\n",
            "|     2|       0|   97|\n",
            "|     2|       1|   87|\n",
            "|     3|       0|  372|\n",
            "|     3|       1|  119|\n",
            "+------+--------+-----+\n",
            "\n"
          ]
        }
      ]
    },
    {
      "cell_type": "code",
      "source": [
        "# Produce summary statistics\n",
        "# The \"count\" row gives the info about null values\n",
        "\n",
        "titanic_train.describe()"
      ],
      "metadata": {
        "colab": {
          "base_uri": "https://localhost:8080/",
          "height": 228
        },
        "id": "QQ5IsguuNrKE",
        "outputId": "4edf73e8-b193-49b3-9151-15422895cd1a"
      },
      "execution_count": null,
      "outputs": [
        {
          "output_type": "execute_result",
          "data": {
            "text/plain": [
              "+-------+-----------------+-------------------+------------------+--------------------+------+------------------+------------------+-------------------+------------------+-----------------+-----+--------+\n",
              "|summary|      PassengerId|           Survived|            Pclass|                Name|   Sex|               Age|             SibSp|              Parch|            Ticket|             Fare|Cabin|Embarked|\n",
              "+-------+-----------------+-------------------+------------------+--------------------+------+------------------+------------------+-------------------+------------------+-----------------+-----+--------+\n",
              "|  count|              891|                891|               891|                 891|   891|               714|               891|                891|               891|              891|  204|     889|\n",
              "|   mean|            446.0| 0.3838383838383838| 2.308641975308642|                null|  null| 29.69911764705882|0.5230078563411896|0.38159371492704824|260318.54916792738| 32.2042079685746| null|    null|\n",
              "| stddev|257.3538420152301|0.48659245426485753|0.8360712409770491|                null|  null|14.526497332334035|1.1027434322934315| 0.8060572211299488|471609.26868834975|49.69342859718089| null|    null|\n",
              "|    min|                1|                  0|                 1|\"Andersson, Mr. A...|female|              0.42|                 0|                  0|            110152|              0.0|  A10|       C|\n",
              "|    max|              891|                  1|                 3|van Melkebeke, Mr...|  male|              80.0|                 8|                  6|         WE/P 5735|         512.3292|    T|       S|\n",
              "+-------+-----------------+-------------------+------------------+--------------------+------+------------------+------------------+-------------------+------------------+-----------------+-----+--------+"
            ],
            "text/html": [
              "<table border='1'>\n",
              "<tr><th>summary</th><th>PassengerId</th><th>Survived</th><th>Pclass</th><th>Name</th><th>Sex</th><th>Age</th><th>SibSp</th><th>Parch</th><th>Ticket</th><th>Fare</th><th>Cabin</th><th>Embarked</th></tr>\n",
              "<tr><td>count</td><td>891</td><td>891</td><td>891</td><td>891</td><td>891</td><td>714</td><td>891</td><td>891</td><td>891</td><td>891</td><td>204</td><td>889</td></tr>\n",
              "<tr><td>mean</td><td>446.0</td><td>0.3838383838383838</td><td>2.308641975308642</td><td>null</td><td>null</td><td>29.69911764705882</td><td>0.5230078563411896</td><td>0.38159371492704824</td><td>260318.54916792738</td><td>32.2042079685746</td><td>null</td><td>null</td></tr>\n",
              "<tr><td>stddev</td><td>257.3538420152301</td><td>0.48659245426485753</td><td>0.8360712409770491</td><td>null</td><td>null</td><td>14.526497332334035</td><td>1.1027434322934315</td><td>0.8060572211299488</td><td>471609.26868834975</td><td>49.69342859718089</td><td>null</td><td>null</td></tr>\n",
              "<tr><td>min</td><td>1</td><td>0</td><td>1</td><td>&quot;Andersson, Mr. A...</td><td>female</td><td>0.42</td><td>0</td><td>0</td><td>110152</td><td>0.0</td><td>A10</td><td>C</td></tr>\n",
              "<tr><td>max</td><td>891</td><td>1</td><td>3</td><td>van Melkebeke, Mr...</td><td>male</td><td>80.0</td><td>8</td><td>6</td><td>WE/P 5735</td><td>512.3292</td><td>T</td><td>S</td></tr>\n",
              "</table>\n"
            ]
          },
          "metadata": {},
          "execution_count": 31
        }
      ]
    },
    {
      "cell_type": "code",
      "source": [
        "# Drop columns less informative\n",
        "\n",
        "titanic_train = titanic_train.drop(\"PassengerId\",\n",
        "                                   \"Name\",\n",
        "                                   \"Ticket\",\n",
        "                                   \"Cabin\",\n",
        "                                   \"Embarked\")\n",
        "titanic_train.show()"
      ],
      "metadata": {
        "colab": {
          "base_uri": "https://localhost:8080/"
        },
        "id": "oNoBMCBdOTnf",
        "outputId": "96919e4c-66b8-4516-eac8-57b84a6729fc"
      },
      "execution_count": null,
      "outputs": [
        {
          "output_type": "stream",
          "name": "stdout",
          "text": [
            "+--------+------+------+----+-----+-----+-------+\n",
            "|Survived|Pclass|   Sex| Age|SibSp|Parch|   Fare|\n",
            "+--------+------+------+----+-----+-----+-------+\n",
            "|       0|     3|  male|22.0|    1|    0|   7.25|\n",
            "|       1|     1|female|38.0|    1|    0|71.2833|\n",
            "|       1|     3|female|26.0|    0|    0|  7.925|\n",
            "|       1|     1|female|35.0|    1|    0|   53.1|\n",
            "|       0|     3|  male|35.0|    0|    0|   8.05|\n",
            "|       0|     3|  male|null|    0|    0| 8.4583|\n",
            "|       0|     1|  male|54.0|    0|    0|51.8625|\n",
            "|       0|     3|  male| 2.0|    3|    1| 21.075|\n",
            "|       1|     3|female|27.0|    0|    2|11.1333|\n",
            "|       1|     2|female|14.0|    1|    0|30.0708|\n",
            "|       1|     3|female| 4.0|    1|    1|   16.7|\n",
            "|       1|     1|female|58.0|    0|    0|  26.55|\n",
            "|       0|     3|  male|20.0|    0|    0|   8.05|\n",
            "|       0|     3|  male|39.0|    1|    5| 31.275|\n",
            "|       0|     3|female|14.0|    0|    0| 7.8542|\n",
            "|       1|     2|female|55.0|    0|    0|   16.0|\n",
            "|       0|     3|  male| 2.0|    4|    1| 29.125|\n",
            "|       1|     2|  male|null|    0|    0|   13.0|\n",
            "|       0|     3|female|31.0|    1|    0|   18.0|\n",
            "|       1|     3|female|null|    0|    0|  7.225|\n",
            "+--------+------+------+----+-----+-----+-------+\n",
            "only showing top 20 rows\n",
            "\n"
          ]
        }
      ]
    },
    {
      "cell_type": "code",
      "source": [
        "from pyspark.sql import functions as f\n",
        "\n",
        "# Add up SibSp (Siblings/Spouses) and Parch (Parents/Children) to make a new variable \n",
        "titanic_train = titanic_train.withColumn(\"FamilySize\",f.col('SibSp')+f.col('Parch'))\n",
        "\n",
        "# Drop the previous columns\n",
        "titanic_train = titanic_train.drop(\"SibSp\",\"Parch\")\n",
        "\n",
        "titanic_train.show()"
      ],
      "metadata": {
        "colab": {
          "base_uri": "https://localhost:8080/"
        },
        "id": "KH1fmtaHQpJm",
        "outputId": "4ee34a18-cbb9-4288-b042-aae21e72c493"
      },
      "execution_count": null,
      "outputs": [
        {
          "output_type": "stream",
          "name": "stdout",
          "text": [
            "+--------+------+------+----+-------+----------+\n",
            "|Survived|Pclass|   Sex| Age|   Fare|FamilySize|\n",
            "+--------+------+------+----+-------+----------+\n",
            "|       0|     3|  male|22.0|   7.25|         1|\n",
            "|       1|     1|female|38.0|71.2833|         1|\n",
            "|       1|     3|female|26.0|  7.925|         0|\n",
            "|       1|     1|female|35.0|   53.1|         1|\n",
            "|       0|     3|  male|35.0|   8.05|         0|\n",
            "|       0|     3|  male|null| 8.4583|         0|\n",
            "|       0|     1|  male|54.0|51.8625|         0|\n",
            "|       0|     3|  male| 2.0| 21.075|         4|\n",
            "|       1|     3|female|27.0|11.1333|         2|\n",
            "|       1|     2|female|14.0|30.0708|         1|\n",
            "|       1|     3|female| 4.0|   16.7|         2|\n",
            "|       1|     1|female|58.0|  26.55|         0|\n",
            "|       0|     3|  male|20.0|   8.05|         0|\n",
            "|       0|     3|  male|39.0| 31.275|         6|\n",
            "|       0|     3|female|14.0| 7.8542|         0|\n",
            "|       1|     2|female|55.0|   16.0|         0|\n",
            "|       0|     3|  male| 2.0| 29.125|         5|\n",
            "|       1|     2|  male|null|   13.0|         0|\n",
            "|       0|     3|female|31.0|   18.0|         1|\n",
            "|       1|     3|female|null|  7.225|         0|\n",
            "+--------+------+------+----+-------+----------+\n",
            "only showing top 20 rows\n",
            "\n"
          ]
        }
      ]
    },
    {
      "cell_type": "code",
      "source": [
        "# Create Dummy variable for gender\n",
        "from pyspark.ml.feature import StringIndexer\n",
        "\n",
        "stringIndexer = StringIndexer(inputCol='Sex', outputCol='SexIndex')\n",
        "\n",
        "myFit = stringIndexer.fit(titanic_train)\n",
        "titanic_train = myFit.transform(titanic_train)\n",
        "titanic_train = titanic_train.drop(\"Sex\")\n",
        "\n",
        "titanic_train.show()"
      ],
      "metadata": {
        "colab": {
          "base_uri": "https://localhost:8080/"
        },
        "id": "3vBQ2gdYQ_Pq",
        "outputId": "bc418019-8b54-4f0d-c17a-eea1e2f20aa3"
      },
      "execution_count": null,
      "outputs": [
        {
          "output_type": "stream",
          "name": "stdout",
          "text": [
            "+--------+------+----+-------+----------+--------+\n",
            "|Survived|Pclass| Age|   Fare|FamilySize|SexIndex|\n",
            "+--------+------+----+-------+----------+--------+\n",
            "|       0|     3|22.0|   7.25|         1|     0.0|\n",
            "|       1|     1|38.0|71.2833|         1|     1.0|\n",
            "|       1|     3|26.0|  7.925|         0|     1.0|\n",
            "|       1|     1|35.0|   53.1|         1|     1.0|\n",
            "|       0|     3|35.0|   8.05|         0|     0.0|\n",
            "|       0|     3|null| 8.4583|         0|     0.0|\n",
            "|       0|     1|54.0|51.8625|         0|     0.0|\n",
            "|       0|     3| 2.0| 21.075|         4|     0.0|\n",
            "|       1|     3|27.0|11.1333|         2|     1.0|\n",
            "|       1|     2|14.0|30.0708|         1|     1.0|\n",
            "|       1|     3| 4.0|   16.7|         2|     1.0|\n",
            "|       1|     1|58.0|  26.55|         0|     1.0|\n",
            "|       0|     3|20.0|   8.05|         0|     0.0|\n",
            "|       0|     3|39.0| 31.275|         6|     0.0|\n",
            "|       0|     3|14.0| 7.8542|         0|     1.0|\n",
            "|       1|     2|55.0|   16.0|         0|     1.0|\n",
            "|       0|     3| 2.0| 29.125|         5|     0.0|\n",
            "|       1|     2|null|   13.0|         0|     0.0|\n",
            "|       0|     3|31.0|   18.0|         1|     1.0|\n",
            "|       1|     3|null|  7.225|         0|     1.0|\n",
            "+--------+------+----+-------+----------+--------+\n",
            "only showing top 20 rows\n",
            "\n"
          ]
        }
      ]
    },
    {
      "cell_type": "code",
      "source": [
        "# Finally replace N/A in \"Age\" column with average age\n",
        "\n",
        "avg_age = titanic_train.select(f.avg('Age')).collect()[0][0]\n",
        "titanic_train = titanic_train.na.fill({\"Age\" : avg_age})\n",
        "\n",
        "titanic_train.show()"
      ],
      "metadata": {
        "colab": {
          "base_uri": "https://localhost:8080/"
        },
        "id": "ZNnUlIx3RSLk",
        "outputId": "489ee03d-d6ee-444c-856d-102b6cdfd694"
      },
      "execution_count": null,
      "outputs": [
        {
          "output_type": "stream",
          "name": "stdout",
          "text": [
            "+--------+------+-----------------+-------+----------+--------+\n",
            "|Survived|Pclass|              Age|   Fare|FamilySize|SexIndex|\n",
            "+--------+------+-----------------+-------+----------+--------+\n",
            "|       0|     3|             22.0|   7.25|         1|     0.0|\n",
            "|       1|     1|             38.0|71.2833|         1|     1.0|\n",
            "|       1|     3|             26.0|  7.925|         0|     1.0|\n",
            "|       1|     1|             35.0|   53.1|         1|     1.0|\n",
            "|       0|     3|             35.0|   8.05|         0|     0.0|\n",
            "|       0|     3|29.69911764705882| 8.4583|         0|     0.0|\n",
            "|       0|     1|             54.0|51.8625|         0|     0.0|\n",
            "|       0|     3|              2.0| 21.075|         4|     0.0|\n",
            "|       1|     3|             27.0|11.1333|         2|     1.0|\n",
            "|       1|     2|             14.0|30.0708|         1|     1.0|\n",
            "|       1|     3|              4.0|   16.7|         2|     1.0|\n",
            "|       1|     1|             58.0|  26.55|         0|     1.0|\n",
            "|       0|     3|             20.0|   8.05|         0|     0.0|\n",
            "|       0|     3|             39.0| 31.275|         6|     0.0|\n",
            "|       0|     3|             14.0| 7.8542|         0|     1.0|\n",
            "|       1|     2|             55.0|   16.0|         0|     1.0|\n",
            "|       0|     3|              2.0| 29.125|         5|     0.0|\n",
            "|       1|     2|29.69911764705882|   13.0|         0|     0.0|\n",
            "|       0|     3|             31.0|   18.0|         1|     1.0|\n",
            "|       1|     3|29.69911764705882|  7.225|         0|     1.0|\n",
            "+--------+------+-----------------+-------+----------+--------+\n",
            "only showing top 20 rows\n",
            "\n"
          ]
        }
      ]
    },
    {
      "cell_type": "markdown",
      "source": [
        "## Logistic Regression Procedure and Prediction Model Evaluation"
      ],
      "metadata": {
        "id": "t0TEWTIETnUv"
      }
    },
    {
      "cell_type": "code",
      "source": [
        "# Prepare the feature vector\n",
        "\n",
        "from pyspark.ml.feature import VectorAssembler\n",
        "\n",
        "feature = VectorAssembler(inputCols=titanic_train.columns[1:],outputCol=\"features\")\n",
        "feature_vector= feature.transform(titanic_train)\n",
        "\n",
        "feature_vector.show()"
      ],
      "metadata": {
        "colab": {
          "base_uri": "https://localhost:8080/"
        },
        "id": "mVGXkDL5RejF",
        "outputId": "3af0aef1-179a-41d2-f139-a2a287cb048c"
      },
      "execution_count": null,
      "outputs": [
        {
          "output_type": "stream",
          "name": "stdout",
          "text": [
            "+--------+------+-----------------+-------+----------+--------+--------------------+\n",
            "|Survived|Pclass|              Age|   Fare|FamilySize|SexIndex|            features|\n",
            "+--------+------+-----------------+-------+----------+--------+--------------------+\n",
            "|       0|     3|             22.0|   7.25|         1|     0.0|[3.0,22.0,7.25,1....|\n",
            "|       1|     1|             38.0|71.2833|         1|     1.0|[1.0,38.0,71.2833...|\n",
            "|       1|     3|             26.0|  7.925|         0|     1.0|[3.0,26.0,7.925,0...|\n",
            "|       1|     1|             35.0|   53.1|         1|     1.0|[1.0,35.0,53.1,1....|\n",
            "|       0|     3|             35.0|   8.05|         0|     0.0|[3.0,35.0,8.05,0....|\n",
            "|       0|     3|29.69911764705882| 8.4583|         0|     0.0|[3.0,29.699117647...|\n",
            "|       0|     1|             54.0|51.8625|         0|     0.0|[1.0,54.0,51.8625...|\n",
            "|       0|     3|              2.0| 21.075|         4|     0.0|[3.0,2.0,21.075,4...|\n",
            "|       1|     3|             27.0|11.1333|         2|     1.0|[3.0,27.0,11.1333...|\n",
            "|       1|     2|             14.0|30.0708|         1|     1.0|[2.0,14.0,30.0708...|\n",
            "|       1|     3|              4.0|   16.7|         2|     1.0|[3.0,4.0,16.7,2.0...|\n",
            "|       1|     1|             58.0|  26.55|         0|     1.0|[1.0,58.0,26.55,0...|\n",
            "|       0|     3|             20.0|   8.05|         0|     0.0|[3.0,20.0,8.05,0....|\n",
            "|       0|     3|             39.0| 31.275|         6|     0.0|[3.0,39.0,31.275,...|\n",
            "|       0|     3|             14.0| 7.8542|         0|     1.0|[3.0,14.0,7.8542,...|\n",
            "|       1|     2|             55.0|   16.0|         0|     1.0|[2.0,55.0,16.0,0....|\n",
            "|       0|     3|              2.0| 29.125|         5|     0.0|[3.0,2.0,29.125,5...|\n",
            "|       1|     2|29.69911764705882|   13.0|         0|     0.0|[2.0,29.699117647...|\n",
            "|       0|     3|             31.0|   18.0|         1|     1.0|[3.0,31.0,18.0,1....|\n",
            "|       1|     3|29.69911764705882|  7.225|         0|     1.0|[3.0,29.699117647...|\n",
            "+--------+------+-----------------+-------+----------+--------+--------------------+\n",
            "only showing top 20 rows\n",
            "\n"
          ]
        }
      ]
    },
    {
      "cell_type": "code",
      "source": [
        "# Split data from Training model and Test model\n",
        "\n",
        "(training, test) = feature_vector.randomSplit([0.8, 0.2],seed = 56)"
      ],
      "metadata": {
        "id": "EcTx8_reRnNZ"
      },
      "execution_count": null,
      "outputs": []
    },
    {
      "cell_type": "code",
      "source": [
        "# Import an evaluator\n",
        "from pyspark.ml.evaluation import MulticlassClassificationEvaluator\n",
        "\n",
        "# Import logistic regression\n",
        "from pyspark.ml.classification import LogisticRegression\n",
        "lr = LogisticRegression(labelCol=\"Survived\", featuresCol=\"features\")\n",
        "\n",
        "# Set up the model\n",
        "lrModel = lr.fit(training)\n",
        "lr_prediction = lrModel.transform(test)\n",
        "lr_prediction.select(\"prediction\", \"Survived\", \"features\").orderBy(\"Survived\",ascending=False).show(50)\n",
        "evaluator = MulticlassClassificationEvaluator(labelCol=\"Survived\", predictionCol=\"prediction\", metricName=\"accuracy\")"
      ],
      "metadata": {
        "colab": {
          "base_uri": "https://localhost:8080/"
        },
        "id": "VcTye6j1SG5t",
        "outputId": "dbf847de-049d-420b-e193-3a1ff30f5ac3"
      },
      "execution_count": null,
      "outputs": [
        {
          "output_type": "stream",
          "name": "stdout",
          "text": [
            "+----------+--------+--------------------+\n",
            "|prediction|Survived|            features|\n",
            "+----------+--------+--------------------+\n",
            "|       1.0|       1|[1.0,15.0,211.337...|\n",
            "|       1.0|       1|[3.0,5.0,12.475,0...|\n",
            "|       1.0|       1|[1.0,16.0,39.4,1....|\n",
            "|       1.0|       1|[1.0,17.0,57.0,1....|\n",
            "|       1.0|       1|[1.0,18.0,79.65,2...|\n",
            "|       1.0|       1|[1.0,19.0,91.0792...|\n",
            "|       1.0|       1|[1.0,23.0,113.275...|\n",
            "|       1.0|       1|[1.0,23.0,263.0,5...|\n",
            "|       1.0|       1|[1.0,29.699117647...|\n",
            "|       1.0|       1|[1.0,29.699117647...|\n",
            "|       1.0|       1|[1.0,29.699117647...|\n",
            "|       1.0|       1|[1.0,29.699117647...|\n",
            "|       1.0|       1|[1.0,29.699117647...|\n",
            "|       0.0|       1|[1.0,31.0,57.0,1....|\n",
            "|       0.0|       1|[1.0,34.0,26.55,0...|\n",
            "|       1.0|       1|[1.0,35.0,53.1,1....|\n",
            "|       1.0|       1|[1.0,35.0,83.475,...|\n",
            "|       1.0|       1|[1.0,35.0,135.633...|\n",
            "|       0.0|       1|[1.0,36.0,26.2875...|\n",
            "|       1.0|       1|[1.0,36.0,120.0,3...|\n",
            "|       1.0|       1|[1.0,36.0,512.329...|\n",
            "|       1.0|       1|[1.0,38.0,227.525...|\n",
            "|       0.0|       1|[1.0,42.0,26.2875...|\n",
            "|       1.0|       1|[1.0,42.0,227.525...|\n",
            "|       1.0|       1|[1.0,56.0,83.1583...|\n",
            "|       1.0|       1|[1.0,63.0,77.9583...|\n",
            "|       1.0|       1|[2.0,4.0,23.0,2.0...|\n",
            "|       1.0|       1|[2.0,17.0,10.5,0....|\n",
            "|       1.0|       1|[2.0,17.0,12.0,0....|\n",
            "|       1.0|       1|[2.0,18.0,13.0,2....|\n",
            "|       1.0|       1|[2.0,18.0,23.0,1....|\n",
            "|       1.0|       1|[2.0,19.0,26.0,0....|\n",
            "|       1.0|       1|[2.0,21.0,10.5,0....|\n",
            "|       1.0|       1|[2.0,24.0,13.0,0....|\n",
            "|       1.0|       1|[2.0,24.0,65.0,3....|\n",
            "|       1.0|       1|[2.0,27.0,10.5,0....|\n",
            "|       1.0|       1|[2.0,28.0,26.0,1....|\n",
            "|       1.0|       1|[2.0,29.0,26.0,1....|\n",
            "|       0.0|       1|[2.0,29.699117647...|\n",
            "|       1.0|       1|[2.0,32.0,13.0,0....|\n",
            "|       1.0|       1|[2.0,33.0,27.75,3...|\n",
            "|       1.0|       1|[2.0,36.0,26.0,1....|\n",
            "|       1.0|       1|[2.0,40.0,15.75,0...|\n",
            "|       1.0|       1|[2.0,41.0,19.5,1....|\n",
            "|       1.0|       1|[2.0,42.0,13.0,0....|\n",
            "|       1.0|       1|[2.0,42.0,26.0,1....|\n",
            "|       1.0|       1|[2.0,45.0,26.25,2...|\n",
            "|       1.0|       1|[2.0,50.0,10.5,0....|\n",
            "|       0.0|       1|[2.0,62.0,10.5,0....|\n",
            "|       1.0|       1|[3.0,4.0,16.7,2.0...|\n",
            "+----------+--------+--------------------+\n",
            "only showing top 50 rows\n",
            "\n"
          ]
        }
      ]
    },
    {
      "cell_type": "code",
      "source": [
        "# Report the accuracy\n",
        "\n",
        "lr_accuracy = evaluator.evaluate(lr_prediction)\n",
        "print(\"Accuracy of this Logistic Regression model is %g\"% (lr_accuracy))"
      ],
      "metadata": {
        "colab": {
          "base_uri": "https://localhost:8080/"
        },
        "id": "B9rpgp4hTHBv",
        "outputId": "b1089f57-c597-4d5a-ab6b-3ce572542cd6"
      },
      "execution_count": null,
      "outputs": [
        {
          "output_type": "stream",
          "name": "stdout",
          "text": [
            "Accuracy of this Logistic Regression model is 0.8125\n"
          ]
        }
      ]
    }
  ]
}