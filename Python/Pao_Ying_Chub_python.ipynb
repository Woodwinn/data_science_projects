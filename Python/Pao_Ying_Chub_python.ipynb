# Rock Paper Scissor game using Python

import random as rd

def PaoYingChub() -> None:
    # getting started
    print("::::::Welcome to Pao-Ying-Chub Game:::::::")
    name = input("Please enter you name:")
    print(f"Hi! {name}, Let's play...")
    print("Rock, Paper, Scissors, Shoot!")

    # counter
    count_round: int = 0
    count_win: int = 0
    count_lose: int = 0
    count_draw: int = 0

    # an empty string to store the player's choice
    player = ""

    # loop
    while player != 'Exit':
        
        # count the number of rounds
        count_round += 1

        # bot
        bot = rd.choice(['Rock', 'Paper', 'Scissor'])

        # get input from player
        try:
            number = int(input("Please enter one of the following actions 1: Rock, 2: Paper, 3: Scissor, 4: Score?, 5: Exit the game >>> "))
            if number == 1:
                player = 'Rock'
            elif number == 2:
                player = 'Paper'
            elif number == 3:
                player = 'Scissor'
            elif number == 4:
                player = 'Score?'
            elif number == 5:
                player = 'Exit'
            else:
                player = 'WRONG NUMBER'
                print(f'{number} is the WRONG number!!! Please try again...')
                count_round -= 1
        except ValueError:
            print("That's NOT a number! Please try again")
            player = "Continue"
            count_round -= 1


        # scoring
        if ((player == 'Rock'    and bot == 'Scissor') or\
            (player == 'Paper'   and bot == 'Rock'   ) or\
            (player == 'Scissor' and bot == 'Paper'  )):
            print("You win!")
            print("")
            count_win += 1

        elif player == bot:  # draw
            count_draw += 1
            print("Draw game!")
            print("")

        elif ((player == 'Scissor' and bot == 'Rock'   ) or\
            (player == 'Rock'     and bot == 'Paper'  ) or\
            (player == 'Paper'    and bot == 'Scissor')):
            print("You lose!")
            print("")
            count_lose += 1

        # display
        if player in ['Rock', 'Paper', 'Scissor']:  # each round
            print(f"Round: {count_round} -> {name}: {player} VS. Bot: {bot}")
        elif player == 'Score?':  # check score
            count_round -= 1
            print('Score?')
            print(f"The number of rounds you played: {count_round}")
            print(f"Your score -> Win: {count_win} Draw: {count_draw} Lose: {count_lose}")
        elif player == 'Exit':  # quit the game
            count_round -= 1 
            print('Thank you for playing!')
            print(f"The number of rounds you played: {count_round}")
            print(f"{name}'s score -> Win: {count_win} Draw: {count_draw} Lose: {count_lose}")
